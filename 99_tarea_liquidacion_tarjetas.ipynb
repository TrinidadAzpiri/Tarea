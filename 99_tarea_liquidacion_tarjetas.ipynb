{
 "nbformat": 4,
 "nbformat_minor": 0,
 "metadata": {
  "colab": {
   "name": "Liq_tarjetas_07/2022.ipynb",
   "provenance": [],
   "collapsed_sections": []
  },
  "kernelspec": {
   "name": "python3",
   "display_name": "Python 3"
  },
  "language_info": {
   "name": "python"
  }
 },
 "cells": [
  {
   "cell_type": "markdown",
   "source": [
    "# Tarjetas\n",
    "\n",
    "dataset: https://docs.google.com/spreadsheets/d/1E2QvH18DyNDw1eGqU40D_KHSEfSzbipV/edit?usp=sharing&ouid=115931210603772521641&rtpof=true&sd=true\n"
   ],
   "metadata": {
    "collapsed": false,
    "pycharm": {
     "name": "#%% md\n"
    }
   }
  },
  {
   "cell_type": "code",
   "execution_count": 207,
   "metadata": {
    "id": "49BJJVhVYin4",
    "pycharm": {
     "name": "#%%\n"
    }
   },
   "outputs": [],
   "source": [
    "import pandas as pd\n",
    "#!pip install openpyxl"
   ]
  },
  {
   "cell_type": "code",
   "execution_count": 209,
   "outputs": [],
   "source": [
    "path_file = \"tarjetas.xlsx - Sheet1.csv\""
   ],
   "metadata": {
    "collapsed": false,
    "pycharm": {
     "name": "#%%\n"
    }
   }
  },
  {
   "cell_type": "code",
   "execution_count": 210,
   "outputs": [],
   "source": [
    "tarjetas = pd.read_csv(path_file)"
   ],
   "metadata": {
    "collapsed": false,
    "pycharm": {
     "name": "#%%\n"
    }
   }
  },
  {
   "cell_type": "code",
   "execution_count": 211,
   "outputs": [
    {
     "data": {
      "text/plain": "   Unnamed: 0    PreseTaciOn_Fecha        FeCha_de_Pago  cod_clearing  \\\n0           0  2022-06-15 00:00:00  2022-07-01 00:00:00          1009   \n1           1  2022-06-15 00:00:00  2022-07-01 00:00:00          1011   \n2           2  2022-06-15 00:00:00  2022-07-01 00:00:00          2031   \n3           3  2022-06-15 00:00:00  2022-07-01 00:00:00          2040   \n4           4  2022-06-15 00:00:00  2022-07-01 00:00:00          2800   \n\n                                   desc_creaing  NRo_Liquidacion  \\\n0  VENTAS C/DESCUENTO CONTADO                              27822   \n1  VENTAS C/DTO CUOTAS FINANC. OTORG.                      27822   \n2  ARANCEL                                                 27822   \n3                      PROMO CUOTAS AHORA 12/18            27822   \n4  TOTAL DEDUCCIONES                                       27822   \n\n   cod_sucursal  Cod_comercio  Cod_pagadora Cod_marca_producto  \\\n0           716      25107406           156       VISA CREDITO   \n1           716      25107406           156       VISA CREDITO   \n2           716      25107406           156       VISA CREDITO   \n3           716      25107406           156       VISA CREDITO   \n4           716      25107406           156       VISA CREDITO   \n\n   importe_concepto  \n0           5096.00  \n1         413500.60  \n2           7534.70  \n3          18416.85  \n4          49585.43  ",
      "text/html": "<div>\n<style scoped>\n    .dataframe tbody tr th:only-of-type {\n        vertical-align: middle;\n    }\n\n    .dataframe tbody tr th {\n        vertical-align: top;\n    }\n\n    .dataframe thead th {\n        text-align: right;\n    }\n</style>\n<table border=\"1\" class=\"dataframe\">\n  <thead>\n    <tr style=\"text-align: right;\">\n      <th></th>\n      <th>Unnamed: 0</th>\n      <th>PreseTaciOn_Fecha</th>\n      <th>FeCha_de_Pago</th>\n      <th>cod_clearing</th>\n      <th>desc_creaing</th>\n      <th>NRo_Liquidacion</th>\n      <th>cod_sucursal</th>\n      <th>Cod_comercio</th>\n      <th>Cod_pagadora</th>\n      <th>Cod_marca_producto</th>\n      <th>importe_concepto</th>\n    </tr>\n  </thead>\n  <tbody>\n    <tr>\n      <th>0</th>\n      <td>0</td>\n      <td>2022-06-15 00:00:00</td>\n      <td>2022-07-01 00:00:00</td>\n      <td>1009</td>\n      <td>VENTAS C/DESCUENTO CONTADO</td>\n      <td>27822</td>\n      <td>716</td>\n      <td>25107406</td>\n      <td>156</td>\n      <td>VISA CREDITO</td>\n      <td>5096.00</td>\n    </tr>\n    <tr>\n      <th>1</th>\n      <td>1</td>\n      <td>2022-06-15 00:00:00</td>\n      <td>2022-07-01 00:00:00</td>\n      <td>1011</td>\n      <td>VENTAS C/DTO CUOTAS FINANC. OTORG.</td>\n      <td>27822</td>\n      <td>716</td>\n      <td>25107406</td>\n      <td>156</td>\n      <td>VISA CREDITO</td>\n      <td>413500.60</td>\n    </tr>\n    <tr>\n      <th>2</th>\n      <td>2</td>\n      <td>2022-06-15 00:00:00</td>\n      <td>2022-07-01 00:00:00</td>\n      <td>2031</td>\n      <td>ARANCEL</td>\n      <td>27822</td>\n      <td>716</td>\n      <td>25107406</td>\n      <td>156</td>\n      <td>VISA CREDITO</td>\n      <td>7534.70</td>\n    </tr>\n    <tr>\n      <th>3</th>\n      <td>3</td>\n      <td>2022-06-15 00:00:00</td>\n      <td>2022-07-01 00:00:00</td>\n      <td>2040</td>\n      <td>PROMO CUOTAS AHORA 12/18</td>\n      <td>27822</td>\n      <td>716</td>\n      <td>25107406</td>\n      <td>156</td>\n      <td>VISA CREDITO</td>\n      <td>18416.85</td>\n    </tr>\n    <tr>\n      <th>4</th>\n      <td>4</td>\n      <td>2022-06-15 00:00:00</td>\n      <td>2022-07-01 00:00:00</td>\n      <td>2800</td>\n      <td>TOTAL DEDUCCIONES</td>\n      <td>27822</td>\n      <td>716</td>\n      <td>25107406</td>\n      <td>156</td>\n      <td>VISA CREDITO</td>\n      <td>49585.43</td>\n    </tr>\n  </tbody>\n</table>\n</div>"
     },
     "execution_count": 211,
     "metadata": {},
     "output_type": "execute_result"
    }
   ],
   "source": [
    "tarjetas.head()"
   ],
   "metadata": {
    "collapsed": false,
    "pycharm": {
     "name": "#%%\n"
    }
   }
  },
  {
   "cell_type": "markdown",
   "source": [
    "### 1- Pasar todos los nombres de las columnas a minusculas"
   ],
   "metadata": {
    "collapsed": false,
    "pycharm": {
     "name": "#%% md\n"
    }
   }
  },
  {
   "cell_type": "code",
   "execution_count": 212,
   "outputs": [
    {
     "data": {
      "text/plain": "       unnamed: 0    presetacion_fecha        fecha_de_pago  cod_clearing  \\\n0               0  2022-06-15 00:00:00  2022-07-01 00:00:00          1009   \n1               1  2022-06-15 00:00:00  2022-07-01 00:00:00          1011   \n2               2  2022-06-15 00:00:00  2022-07-01 00:00:00          2031   \n3               3  2022-06-15 00:00:00  2022-07-01 00:00:00          2040   \n4               4  2022-06-15 00:00:00  2022-07-01 00:00:00          2800   \n...           ...                  ...                  ...           ...   \n47275       47275  2022-07-28 00:00:00  2022-07-29 00:00:00          2900   \n47276       47276  2022-07-28 00:00:00  2022-07-29 00:00:00          5104   \n47277       47277  2022-07-28 00:00:00  2022-07-29 00:00:00          5204   \n47278       47278  2022-07-28 00:00:00  2022-07-29 00:00:00          5900   \n47279       47279  2022-07-28 00:00:00  2022-07-29 00:00:00          6000   \n\n                                       desc_creaing  nro_liquidacion  \\\n0      VENTAS C/DESCUENTO CONTADO                              27822   \n1      VENTAS C/DTO CUOTAS FINANC. OTORG.                      27822   \n2      ARANCEL                                                 27822   \n3                          PROMO CUOTAS AHORA 12/18            27822   \n4      TOTAL DEDUCCIONES                                       27822   \n...                                             ...              ...   \n47275  TOTAL LIQUIDACION                                      143176   \n47276  IVA CRED.FISC.COMERCIO S/ARANC 21,00%                  143176   \n47277                   RETENCION ING.BRUTOS SIRTAC           143176   \n47278  SUBTOTAL NETO DE PAGOS                                 143176   \n47279  IMPORTE NETO DE PAGOS                                  143176   \n\n       cod_sucursal  cod_comercio  cod_pagadora cod_marca_producto  \\\n0               716      25107406           156       VISA CREDITO   \n1               716      25107406           156       VISA CREDITO   \n2               716      25107406           156       VISA CREDITO   \n3               716      25107406           156       VISA CREDITO   \n4               716      25107406           156       VISA CREDITO   \n...             ...           ...           ...                ...   \n47275           519      25892918            82        VISA DEBITO   \n47276           519      25892918            82        VISA DEBITO   \n47277           519      25892918            82        VISA DEBITO   \n47278           519      25892918            82        VISA DEBITO   \n47279           519      25892918            82        VISA DEBITO   \n\n       importe_concepto  \n0               5096.00  \n1             413500.60  \n2               7534.70  \n3              18416.85  \n4              49585.43  \n...                 ...  \n47275          97185.50  \n47276            166.03  \n47277            691.84  \n47278          97185.50  \n47279          97185.50  \n\n[47280 rows x 11 columns]",
      "text/html": "<div>\n<style scoped>\n    .dataframe tbody tr th:only-of-type {\n        vertical-align: middle;\n    }\n\n    .dataframe tbody tr th {\n        vertical-align: top;\n    }\n\n    .dataframe thead th {\n        text-align: right;\n    }\n</style>\n<table border=\"1\" class=\"dataframe\">\n  <thead>\n    <tr style=\"text-align: right;\">\n      <th></th>\n      <th>unnamed: 0</th>\n      <th>presetacion_fecha</th>\n      <th>fecha_de_pago</th>\n      <th>cod_clearing</th>\n      <th>desc_creaing</th>\n      <th>nro_liquidacion</th>\n      <th>cod_sucursal</th>\n      <th>cod_comercio</th>\n      <th>cod_pagadora</th>\n      <th>cod_marca_producto</th>\n      <th>importe_concepto</th>\n    </tr>\n  </thead>\n  <tbody>\n    <tr>\n      <th>0</th>\n      <td>0</td>\n      <td>2022-06-15 00:00:00</td>\n      <td>2022-07-01 00:00:00</td>\n      <td>1009</td>\n      <td>VENTAS C/DESCUENTO CONTADO</td>\n      <td>27822</td>\n      <td>716</td>\n      <td>25107406</td>\n      <td>156</td>\n      <td>VISA CREDITO</td>\n      <td>5096.00</td>\n    </tr>\n    <tr>\n      <th>1</th>\n      <td>1</td>\n      <td>2022-06-15 00:00:00</td>\n      <td>2022-07-01 00:00:00</td>\n      <td>1011</td>\n      <td>VENTAS C/DTO CUOTAS FINANC. OTORG.</td>\n      <td>27822</td>\n      <td>716</td>\n      <td>25107406</td>\n      <td>156</td>\n      <td>VISA CREDITO</td>\n      <td>413500.60</td>\n    </tr>\n    <tr>\n      <th>2</th>\n      <td>2</td>\n      <td>2022-06-15 00:00:00</td>\n      <td>2022-07-01 00:00:00</td>\n      <td>2031</td>\n      <td>ARANCEL</td>\n      <td>27822</td>\n      <td>716</td>\n      <td>25107406</td>\n      <td>156</td>\n      <td>VISA CREDITO</td>\n      <td>7534.70</td>\n    </tr>\n    <tr>\n      <th>3</th>\n      <td>3</td>\n      <td>2022-06-15 00:00:00</td>\n      <td>2022-07-01 00:00:00</td>\n      <td>2040</td>\n      <td>PROMO CUOTAS AHORA 12/18</td>\n      <td>27822</td>\n      <td>716</td>\n      <td>25107406</td>\n      <td>156</td>\n      <td>VISA CREDITO</td>\n      <td>18416.85</td>\n    </tr>\n    <tr>\n      <th>4</th>\n      <td>4</td>\n      <td>2022-06-15 00:00:00</td>\n      <td>2022-07-01 00:00:00</td>\n      <td>2800</td>\n      <td>TOTAL DEDUCCIONES</td>\n      <td>27822</td>\n      <td>716</td>\n      <td>25107406</td>\n      <td>156</td>\n      <td>VISA CREDITO</td>\n      <td>49585.43</td>\n    </tr>\n    <tr>\n      <th>...</th>\n      <td>...</td>\n      <td>...</td>\n      <td>...</td>\n      <td>...</td>\n      <td>...</td>\n      <td>...</td>\n      <td>...</td>\n      <td>...</td>\n      <td>...</td>\n      <td>...</td>\n      <td>...</td>\n    </tr>\n    <tr>\n      <th>47275</th>\n      <td>47275</td>\n      <td>2022-07-28 00:00:00</td>\n      <td>2022-07-29 00:00:00</td>\n      <td>2900</td>\n      <td>TOTAL LIQUIDACION</td>\n      <td>143176</td>\n      <td>519</td>\n      <td>25892918</td>\n      <td>82</td>\n      <td>VISA DEBITO</td>\n      <td>97185.50</td>\n    </tr>\n    <tr>\n      <th>47276</th>\n      <td>47276</td>\n      <td>2022-07-28 00:00:00</td>\n      <td>2022-07-29 00:00:00</td>\n      <td>5104</td>\n      <td>IVA CRED.FISC.COMERCIO S/ARANC 21,00%</td>\n      <td>143176</td>\n      <td>519</td>\n      <td>25892918</td>\n      <td>82</td>\n      <td>VISA DEBITO</td>\n      <td>166.03</td>\n    </tr>\n    <tr>\n      <th>47277</th>\n      <td>47277</td>\n      <td>2022-07-28 00:00:00</td>\n      <td>2022-07-29 00:00:00</td>\n      <td>5204</td>\n      <td>RETENCION ING.BRUTOS SIRTAC</td>\n      <td>143176</td>\n      <td>519</td>\n      <td>25892918</td>\n      <td>82</td>\n      <td>VISA DEBITO</td>\n      <td>691.84</td>\n    </tr>\n    <tr>\n      <th>47278</th>\n      <td>47278</td>\n      <td>2022-07-28 00:00:00</td>\n      <td>2022-07-29 00:00:00</td>\n      <td>5900</td>\n      <td>SUBTOTAL NETO DE PAGOS</td>\n      <td>143176</td>\n      <td>519</td>\n      <td>25892918</td>\n      <td>82</td>\n      <td>VISA DEBITO</td>\n      <td>97185.50</td>\n    </tr>\n    <tr>\n      <th>47279</th>\n      <td>47279</td>\n      <td>2022-07-28 00:00:00</td>\n      <td>2022-07-29 00:00:00</td>\n      <td>6000</td>\n      <td>IMPORTE NETO DE PAGOS</td>\n      <td>143176</td>\n      <td>519</td>\n      <td>25892918</td>\n      <td>82</td>\n      <td>VISA DEBITO</td>\n      <td>97185.50</td>\n    </tr>\n  </tbody>\n</table>\n<p>47280 rows × 11 columns</p>\n</div>"
     },
     "execution_count": 212,
     "metadata": {},
     "output_type": "execute_result"
    }
   ],
   "source": [
    "tarjetas.columns = map(str.lower, tarjetas.columns)\n",
    "tarjetas\n",
    "#map sustituye los valores"
   ],
   "metadata": {
    "collapsed": false,
    "pycharm": {
     "name": "#%%\n"
    }
   }
  },
  {
   "cell_type": "markdown",
   "source": [
    "### 2-Cuantas sucursales únicas hay? ¿Cuáles?"
   ],
   "metadata": {
    "collapsed": false,
    "pycharm": {
     "name": "#%% md\n"
    }
   }
  },
  {
   "cell_type": "code",
   "execution_count": 213,
   "outputs": [
    {
     "data": {
      "text/plain": "[716, 98, 671, 519, 241]"
     },
     "execution_count": 213,
     "metadata": {},
     "output_type": "execute_result"
    }
   ],
   "source": [
    "#Hay 5 sucurales únicas\n",
    "sucursales = tarjetas[\"cod_sucursal\"].unique().tolist()\n",
    "sucursales"
   ],
   "metadata": {
    "collapsed": false,
    "pycharm": {
     "name": "#%%\n"
    }
   }
  },
  {
   "cell_type": "markdown",
   "source": [
    "### 3- Cuantas tarjetas de crédito distitas hay? ¿Cuáles?\n",
    "¿Se te ocurre un nombre mejor para esa columna?"
   ],
   "metadata": {
    "collapsed": false,
    "pycharm": {
     "name": "#%% md\n"
    }
   }
  },
  {
   "cell_type": "code",
   "execution_count": 214,
   "outputs": [
    {
     "data": {
      "text/plain": "array(['VISA CREDITO', 'VISA DEBITO', 'MASTERCARD', 'MASTERCARD DEBIT',\n       'MAESTRO', 'ARGENCARD'], dtype=object)"
     },
     "execution_count": 214,
     "metadata": {},
     "output_type": "execute_result"
    }
   ],
   "source": [
    "tipo_de_tarjetas = pd.Series.unique(tarjetas[\"cod_marca_producto\"])\n",
    "tipo_de_tarjetas"
   ],
   "metadata": {
    "collapsed": false,
    "pycharm": {
     "name": "#%%\n"
    }
   }
  },
  {
   "cell_type": "code",
   "execution_count": 215,
   "outputs": [],
   "source": [
    "tarjetas_credito = [\"VISA CREDITO\", \"MASTERCARD\", \"ARGENCARD\"]"
   ],
   "metadata": {
    "collapsed": false,
    "pycharm": {
     "name": "#%%\n"
    }
   }
  },
  {
   "cell_type": "markdown",
   "source": [
    "### 4- Cuants filas y columnas hay?\n"
   ],
   "metadata": {
    "collapsed": false,
    "pycharm": {
     "name": "#%% md\n"
    }
   }
  },
  {
   "cell_type": "code",
   "execution_count": 216,
   "outputs": [
    {
     "data": {
      "text/plain": "(47280, 11)"
     },
     "execution_count": 216,
     "metadata": {},
     "output_type": "execute_result"
    }
   ],
   "source": [
    "#Hay 47280 filas y 11 columnas\n",
    "tarjetas.shape"
   ],
   "metadata": {
    "collapsed": false,
    "pycharm": {
     "name": "#%%\n"
    }
   }
  },
  {
   "cell_type": "markdown",
   "source": [
    "### 5- ¿Cuanto suma el total de importe_concepto?\n"
   ],
   "metadata": {
    "collapsed": false,
    "pycharm": {
     "name": "#%% md\n"
    }
   }
  },
  {
   "cell_type": "code",
   "execution_count": 217,
   "outputs": [
    {
     "data": {
      "text/plain": "4145618332.503"
     },
     "execution_count": 217,
     "metadata": {},
     "output_type": "execute_result"
    }
   ],
   "source": [
    "tarjetas[\"importe_concepto\"].sum()"
   ],
   "metadata": {
    "collapsed": false,
    "pycharm": {
     "name": "#%%\n"
    }
   }
  },
  {
   "cell_type": "markdown",
   "source": [
    "### 6- ¿Cuanto dinero se cobro por día? Cree un lineplot para gráficarlo\n"
   ],
   "metadata": {
    "collapsed": false,
    "pycharm": {
     "name": "#%% md\n"
    }
   }
  },
  {
   "cell_type": "code",
   "execution_count": 218,
   "outputs": [
    {
     "data": {
      "text/plain": "array(['2022-07-01 00:00:00', '2022-07-04 00:00:00',\n       '2022-07-05 00:00:00', '2022-07-06 00:00:00',\n       '2022-07-07 00:00:00', '2022-07-08 00:00:00',\n       '2022-07-11 00:00:00', '2022-07-12 00:00:00',\n       '2022-07-13 00:00:00', '2022-07-14 00:00:00',\n       '2022-07-15 00:00:00', '2022-07-18 00:00:00',\n       '2022-07-19 00:00:00', '2022-07-20 00:00:00',\n       '2022-07-21 00:00:00', '2022-07-22 00:00:00',\n       '2022-07-25 00:00:00', '2022-07-26 00:00:00',\n       '2022-07-27 00:00:00', '2022-07-28 00:00:00',\n       '2022-07-29 00:00:00'], dtype=object)"
     },
     "execution_count": 218,
     "metadata": {},
     "output_type": "execute_result"
    }
   ],
   "source": [
    "tarjetas[\"fecha_de_pago\"].unique()"
   ],
   "metadata": {
    "collapsed": false,
    "pycharm": {
     "name": "#%%\n"
    }
   }
  },
  {
   "cell_type": "code",
   "execution_count": 220,
   "outputs": [
    {
     "data": {
      "text/plain": "       unnamed: 0    presetacion_fecha fecha_de_pago  cod_clearing  \\\n0               0  2022-06-15 00:00:00    2022-07-01          1009   \n1               1  2022-06-15 00:00:00    2022-07-01          1011   \n2               2  2022-06-15 00:00:00    2022-07-01          2031   \n3               3  2022-06-15 00:00:00    2022-07-01          2040   \n4               4  2022-06-15 00:00:00    2022-07-01          2800   \n...           ...                  ...           ...           ...   \n47275       47275  2022-07-28 00:00:00    2022-07-29          2900   \n47276       47276  2022-07-28 00:00:00    2022-07-29          5104   \n47277       47277  2022-07-28 00:00:00    2022-07-29          5204   \n47278       47278  2022-07-28 00:00:00    2022-07-29          5900   \n47279       47279  2022-07-28 00:00:00    2022-07-29          6000   \n\n                                       desc_creaing  nro_liquidacion  \\\n0      VENTAS C/DESCUENTO CONTADO                              27822   \n1      VENTAS C/DTO CUOTAS FINANC. OTORG.                      27822   \n2      ARANCEL                                                 27822   \n3                          PROMO CUOTAS AHORA 12/18            27822   \n4      TOTAL DEDUCCIONES                                       27822   \n...                                             ...              ...   \n47275  TOTAL LIQUIDACION                                      143176   \n47276  IVA CRED.FISC.COMERCIO S/ARANC 21,00%                  143176   \n47277                   RETENCION ING.BRUTOS SIRTAC           143176   \n47278  SUBTOTAL NETO DE PAGOS                                 143176   \n47279  IMPORTE NETO DE PAGOS                                  143176   \n\n       cod_sucursal  cod_comercio  cod_pagadora cod_marca_producto  \\\n0               716      25107406           156       VISA CREDITO   \n1               716      25107406           156       VISA CREDITO   \n2               716      25107406           156       VISA CREDITO   \n3               716      25107406           156       VISA CREDITO   \n4               716      25107406           156       VISA CREDITO   \n...             ...           ...           ...                ...   \n47275           519      25892918            82        VISA DEBITO   \n47276           519      25892918            82        VISA DEBITO   \n47277           519      25892918            82        VISA DEBITO   \n47278           519      25892918            82        VISA DEBITO   \n47279           519      25892918            82        VISA DEBITO   \n\n       importe_concepto  \n0               5096.00  \n1             413500.60  \n2               7534.70  \n3              18416.85  \n4              49585.43  \n...                 ...  \n47275          97185.50  \n47276            166.03  \n47277            691.84  \n47278          97185.50  \n47279          97185.50  \n\n[47280 rows x 11 columns]",
      "text/html": "<div>\n<style scoped>\n    .dataframe tbody tr th:only-of-type {\n        vertical-align: middle;\n    }\n\n    .dataframe tbody tr th {\n        vertical-align: top;\n    }\n\n    .dataframe thead th {\n        text-align: right;\n    }\n</style>\n<table border=\"1\" class=\"dataframe\">\n  <thead>\n    <tr style=\"text-align: right;\">\n      <th></th>\n      <th>unnamed: 0</th>\n      <th>presetacion_fecha</th>\n      <th>fecha_de_pago</th>\n      <th>cod_clearing</th>\n      <th>desc_creaing</th>\n      <th>nro_liquidacion</th>\n      <th>cod_sucursal</th>\n      <th>cod_comercio</th>\n      <th>cod_pagadora</th>\n      <th>cod_marca_producto</th>\n      <th>importe_concepto</th>\n    </tr>\n  </thead>\n  <tbody>\n    <tr>\n      <th>0</th>\n      <td>0</td>\n      <td>2022-06-15 00:00:00</td>\n      <td>2022-07-01</td>\n      <td>1009</td>\n      <td>VENTAS C/DESCUENTO CONTADO</td>\n      <td>27822</td>\n      <td>716</td>\n      <td>25107406</td>\n      <td>156</td>\n      <td>VISA CREDITO</td>\n      <td>5096.00</td>\n    </tr>\n    <tr>\n      <th>1</th>\n      <td>1</td>\n      <td>2022-06-15 00:00:00</td>\n      <td>2022-07-01</td>\n      <td>1011</td>\n      <td>VENTAS C/DTO CUOTAS FINANC. OTORG.</td>\n      <td>27822</td>\n      <td>716</td>\n      <td>25107406</td>\n      <td>156</td>\n      <td>VISA CREDITO</td>\n      <td>413500.60</td>\n    </tr>\n    <tr>\n      <th>2</th>\n      <td>2</td>\n      <td>2022-06-15 00:00:00</td>\n      <td>2022-07-01</td>\n      <td>2031</td>\n      <td>ARANCEL</td>\n      <td>27822</td>\n      <td>716</td>\n      <td>25107406</td>\n      <td>156</td>\n      <td>VISA CREDITO</td>\n      <td>7534.70</td>\n    </tr>\n    <tr>\n      <th>3</th>\n      <td>3</td>\n      <td>2022-06-15 00:00:00</td>\n      <td>2022-07-01</td>\n      <td>2040</td>\n      <td>PROMO CUOTAS AHORA 12/18</td>\n      <td>27822</td>\n      <td>716</td>\n      <td>25107406</td>\n      <td>156</td>\n      <td>VISA CREDITO</td>\n      <td>18416.85</td>\n    </tr>\n    <tr>\n      <th>4</th>\n      <td>4</td>\n      <td>2022-06-15 00:00:00</td>\n      <td>2022-07-01</td>\n      <td>2800</td>\n      <td>TOTAL DEDUCCIONES</td>\n      <td>27822</td>\n      <td>716</td>\n      <td>25107406</td>\n      <td>156</td>\n      <td>VISA CREDITO</td>\n      <td>49585.43</td>\n    </tr>\n    <tr>\n      <th>...</th>\n      <td>...</td>\n      <td>...</td>\n      <td>...</td>\n      <td>...</td>\n      <td>...</td>\n      <td>...</td>\n      <td>...</td>\n      <td>...</td>\n      <td>...</td>\n      <td>...</td>\n      <td>...</td>\n    </tr>\n    <tr>\n      <th>47275</th>\n      <td>47275</td>\n      <td>2022-07-28 00:00:00</td>\n      <td>2022-07-29</td>\n      <td>2900</td>\n      <td>TOTAL LIQUIDACION</td>\n      <td>143176</td>\n      <td>519</td>\n      <td>25892918</td>\n      <td>82</td>\n      <td>VISA DEBITO</td>\n      <td>97185.50</td>\n    </tr>\n    <tr>\n      <th>47276</th>\n      <td>47276</td>\n      <td>2022-07-28 00:00:00</td>\n      <td>2022-07-29</td>\n      <td>5104</td>\n      <td>IVA CRED.FISC.COMERCIO S/ARANC 21,00%</td>\n      <td>143176</td>\n      <td>519</td>\n      <td>25892918</td>\n      <td>82</td>\n      <td>VISA DEBITO</td>\n      <td>166.03</td>\n    </tr>\n    <tr>\n      <th>47277</th>\n      <td>47277</td>\n      <td>2022-07-28 00:00:00</td>\n      <td>2022-07-29</td>\n      <td>5204</td>\n      <td>RETENCION ING.BRUTOS SIRTAC</td>\n      <td>143176</td>\n      <td>519</td>\n      <td>25892918</td>\n      <td>82</td>\n      <td>VISA DEBITO</td>\n      <td>691.84</td>\n    </tr>\n    <tr>\n      <th>47278</th>\n      <td>47278</td>\n      <td>2022-07-28 00:00:00</td>\n      <td>2022-07-29</td>\n      <td>5900</td>\n      <td>SUBTOTAL NETO DE PAGOS</td>\n      <td>143176</td>\n      <td>519</td>\n      <td>25892918</td>\n      <td>82</td>\n      <td>VISA DEBITO</td>\n      <td>97185.50</td>\n    </tr>\n    <tr>\n      <th>47279</th>\n      <td>47279</td>\n      <td>2022-07-28 00:00:00</td>\n      <td>2022-07-29</td>\n      <td>6000</td>\n      <td>IMPORTE NETO DE PAGOS</td>\n      <td>143176</td>\n      <td>519</td>\n      <td>25892918</td>\n      <td>82</td>\n      <td>VISA DEBITO</td>\n      <td>97185.50</td>\n    </tr>\n  </tbody>\n</table>\n<p>47280 rows × 11 columns</p>\n</div>"
     },
     "execution_count": 220,
     "metadata": {},
     "output_type": "execute_result"
    }
   ],
   "source": [
    "tarjetas[\"fecha_de_pago\"]= pd.to_datetime(tarjetas[\"fecha_de_pago\"])\n",
    "tarjetas"
   ],
   "metadata": {
    "collapsed": false,
    "pycharm": {
     "name": "#%%\n"
    }
   }
  },
  {
   "cell_type": "code",
   "execution_count": 221,
   "outputs": [],
   "source": [
    "por_dia = tarjetas.groupby(tarjetas[\"fecha_de_pago\"].dt.day)"
   ],
   "metadata": {
    "collapsed": false,
    "pycharm": {
     "name": "#%%\n"
    }
   }
  },
  {
   "cell_type": "code",
   "execution_count": 222,
   "outputs": [],
   "source": [
    "importe_por_dia = por_dia[\"importe_concepto\"].sum()"
   ],
   "metadata": {
    "collapsed": false,
    "pycharm": {
     "name": "#%%\n"
    }
   }
  },
  {
   "cell_type": "code",
   "execution_count": 239,
   "outputs": [
    {
     "ename": "TypeError",
     "evalue": "'NoneType' object is not callable",
     "output_type": "error",
     "traceback": [
      "\u001B[1;31m---------------------------------------------------------------------------\u001B[0m",
      "\u001B[1;31mTypeError\u001B[0m                                 Traceback (most recent call last)",
      "\u001B[1;32m~\\PycharmProjects\\POO\\UCEMA\\venv\\lib\\site-packages\\numpy\\core\\getlimits.py\u001B[0m in \u001B[0;36m__new__\u001B[1;34m(cls, dtype)\u001B[0m\n\u001B[0;32m    458\u001B[0m         \u001B[1;32mtry\u001B[0m\u001B[1;33m:\u001B[0m\u001B[1;33m\u001B[0m\u001B[1;33m\u001B[0m\u001B[0m\n\u001B[1;32m--> 459\u001B[1;33m             \u001B[0mdtype\u001B[0m \u001B[1;33m=\u001B[0m \u001B[0mnumeric\u001B[0m\u001B[1;33m.\u001B[0m\u001B[0mdtype\u001B[0m\u001B[1;33m(\u001B[0m\u001B[0mdtype\u001B[0m\u001B[1;33m)\u001B[0m\u001B[1;33m\u001B[0m\u001B[1;33m\u001B[0m\u001B[0m\n\u001B[0m\u001B[0;32m    460\u001B[0m         \u001B[1;32mexcept\u001B[0m \u001B[0mTypeError\u001B[0m\u001B[1;33m:\u001B[0m\u001B[1;33m\u001B[0m\u001B[1;33m\u001B[0m\u001B[0m\n",
      "\u001B[1;31mTypeError\u001B[0m: 'NoneType' object is not callable",
      "\nDuring handling of the above exception, another exception occurred:\n",
      "\u001B[1;31mTypeError\u001B[0m                                 Traceback (most recent call last)",
      "\u001B[1;32m~\\AppData\\Local\\Temp/ipykernel_11080/198631467.py\u001B[0m in \u001B[0;36m<module>\u001B[1;34m\u001B[0m\n\u001B[1;32m----> 1\u001B[1;33m \u001B[0mimporte_por_dia\u001B[0m\u001B[1;33m.\u001B[0m\u001B[0mplot\u001B[0m\u001B[1;33m(\u001B[0m\u001B[1;33m)\u001B[0m\u001B[1;33m\u001B[0m\u001B[1;33m\u001B[0m\u001B[0m\n\u001B[0m",
      "\u001B[1;32m~\\PycharmProjects\\POO\\UCEMA\\venv\\lib\\site-packages\\pandas\\plotting\\_core.py\u001B[0m in \u001B[0;36m__call__\u001B[1;34m(self, *args, **kwargs)\u001B[0m\n\u001B[0;32m    970\u001B[0m                     \u001B[0mdata\u001B[0m\u001B[1;33m.\u001B[0m\u001B[0mcolumns\u001B[0m \u001B[1;33m=\u001B[0m \u001B[0mlabel_name\u001B[0m\u001B[1;33m\u001B[0m\u001B[1;33m\u001B[0m\u001B[0m\n\u001B[0;32m    971\u001B[0m \u001B[1;33m\u001B[0m\u001B[0m\n\u001B[1;32m--> 972\u001B[1;33m         \u001B[1;32mreturn\u001B[0m \u001B[0mplot_backend\u001B[0m\u001B[1;33m.\u001B[0m\u001B[0mplot\u001B[0m\u001B[1;33m(\u001B[0m\u001B[0mdata\u001B[0m\u001B[1;33m,\u001B[0m \u001B[0mkind\u001B[0m\u001B[1;33m=\u001B[0m\u001B[0mkind\u001B[0m\u001B[1;33m,\u001B[0m \u001B[1;33m**\u001B[0m\u001B[0mkwargs\u001B[0m\u001B[1;33m)\u001B[0m\u001B[1;33m\u001B[0m\u001B[1;33m\u001B[0m\u001B[0m\n\u001B[0m\u001B[0;32m    973\u001B[0m \u001B[1;33m\u001B[0m\u001B[0m\n\u001B[0;32m    974\u001B[0m     \u001B[0m__call__\u001B[0m\u001B[1;33m.\u001B[0m\u001B[0m__doc__\u001B[0m \u001B[1;33m=\u001B[0m \u001B[0m__doc__\u001B[0m\u001B[1;33m\u001B[0m\u001B[1;33m\u001B[0m\u001B[0m\n",
      "\u001B[1;32m~\\PycharmProjects\\POO\\UCEMA\\venv\\lib\\site-packages\\pandas\\plotting\\_matplotlib\\__init__.py\u001B[0m in \u001B[0;36mplot\u001B[1;34m(data, kind, **kwargs)\u001B[0m\n\u001B[0;32m     69\u001B[0m             \u001B[0mkwargs\u001B[0m\u001B[1;33m[\u001B[0m\u001B[1;34m\"ax\"\u001B[0m\u001B[1;33m]\u001B[0m \u001B[1;33m=\u001B[0m \u001B[0mgetattr\u001B[0m\u001B[1;33m(\u001B[0m\u001B[0max\u001B[0m\u001B[1;33m,\u001B[0m \u001B[1;34m\"left_ax\"\u001B[0m\u001B[1;33m,\u001B[0m \u001B[0max\u001B[0m\u001B[1;33m)\u001B[0m\u001B[1;33m\u001B[0m\u001B[1;33m\u001B[0m\u001B[0m\n\u001B[0;32m     70\u001B[0m     \u001B[0mplot_obj\u001B[0m \u001B[1;33m=\u001B[0m \u001B[0mPLOT_CLASSES\u001B[0m\u001B[1;33m[\u001B[0m\u001B[0mkind\u001B[0m\u001B[1;33m]\u001B[0m\u001B[1;33m(\u001B[0m\u001B[0mdata\u001B[0m\u001B[1;33m,\u001B[0m \u001B[1;33m**\u001B[0m\u001B[0mkwargs\u001B[0m\u001B[1;33m)\u001B[0m\u001B[1;33m\u001B[0m\u001B[1;33m\u001B[0m\u001B[0m\n\u001B[1;32m---> 71\u001B[1;33m     \u001B[0mplot_obj\u001B[0m\u001B[1;33m.\u001B[0m\u001B[0mgenerate\u001B[0m\u001B[1;33m(\u001B[0m\u001B[1;33m)\u001B[0m\u001B[1;33m\u001B[0m\u001B[1;33m\u001B[0m\u001B[0m\n\u001B[0m\u001B[0;32m     72\u001B[0m     \u001B[0mplot_obj\u001B[0m\u001B[1;33m.\u001B[0m\u001B[0mdraw\u001B[0m\u001B[1;33m(\u001B[0m\u001B[1;33m)\u001B[0m\u001B[1;33m\u001B[0m\u001B[1;33m\u001B[0m\u001B[0m\n\u001B[0;32m     73\u001B[0m     \u001B[1;32mreturn\u001B[0m \u001B[0mplot_obj\u001B[0m\u001B[1;33m.\u001B[0m\u001B[0mresult\u001B[0m\u001B[1;33m\u001B[0m\u001B[1;33m\u001B[0m\u001B[0m\n",
      "\u001B[1;32m~\\PycharmProjects\\POO\\UCEMA\\venv\\lib\\site-packages\\pandas\\plotting\\_matplotlib\\core.py\u001B[0m in \u001B[0;36mgenerate\u001B[1;34m(self)\u001B[0m\n\u001B[0;32m    292\u001B[0m \u001B[1;33m\u001B[0m\u001B[0m\n\u001B[0;32m    293\u001B[0m         \u001B[1;32mfor\u001B[0m \u001B[0max\u001B[0m \u001B[1;32min\u001B[0m \u001B[0mself\u001B[0m\u001B[1;33m.\u001B[0m\u001B[0maxes\u001B[0m\u001B[1;33m:\u001B[0m\u001B[1;33m\u001B[0m\u001B[1;33m\u001B[0m\u001B[0m\n\u001B[1;32m--> 294\u001B[1;33m             \u001B[0mself\u001B[0m\u001B[1;33m.\u001B[0m\u001B[0m_post_plot_logic_common\u001B[0m\u001B[1;33m(\u001B[0m\u001B[0max\u001B[0m\u001B[1;33m,\u001B[0m \u001B[0mself\u001B[0m\u001B[1;33m.\u001B[0m\u001B[0mdata\u001B[0m\u001B[1;33m)\u001B[0m\u001B[1;33m\u001B[0m\u001B[1;33m\u001B[0m\u001B[0m\n\u001B[0m\u001B[0;32m    295\u001B[0m             \u001B[0mself\u001B[0m\u001B[1;33m.\u001B[0m\u001B[0m_post_plot_logic\u001B[0m\u001B[1;33m(\u001B[0m\u001B[0max\u001B[0m\u001B[1;33m,\u001B[0m \u001B[0mself\u001B[0m\u001B[1;33m.\u001B[0m\u001B[0mdata\u001B[0m\u001B[1;33m)\u001B[0m\u001B[1;33m\u001B[0m\u001B[1;33m\u001B[0m\u001B[0m\n\u001B[0;32m    296\u001B[0m \u001B[1;33m\u001B[0m\u001B[0m\n",
      "\u001B[1;32m~\\PycharmProjects\\POO\\UCEMA\\venv\\lib\\site-packages\\pandas\\plotting\\_matplotlib\\core.py\u001B[0m in \u001B[0;36m_post_plot_logic_common\u001B[1;34m(self, ax, data)\u001B[0m\n\u001B[0;32m    471\u001B[0m         \u001B[1;34m\"\"\"Common post process for each axes\"\"\"\u001B[0m\u001B[1;33m\u001B[0m\u001B[1;33m\u001B[0m\u001B[0m\n\u001B[0;32m    472\u001B[0m         \u001B[1;32mif\u001B[0m \u001B[0mself\u001B[0m\u001B[1;33m.\u001B[0m\u001B[0morientation\u001B[0m \u001B[1;33m==\u001B[0m \u001B[1;34m\"vertical\"\u001B[0m \u001B[1;32mor\u001B[0m \u001B[0mself\u001B[0m\u001B[1;33m.\u001B[0m\u001B[0morientation\u001B[0m \u001B[1;32mis\u001B[0m \u001B[1;32mNone\u001B[0m\u001B[1;33m:\u001B[0m\u001B[1;33m\u001B[0m\u001B[1;33m\u001B[0m\u001B[0m\n\u001B[1;32m--> 473\u001B[1;33m             \u001B[0mself\u001B[0m\u001B[1;33m.\u001B[0m\u001B[0m_apply_axis_properties\u001B[0m\u001B[1;33m(\u001B[0m\u001B[0max\u001B[0m\u001B[1;33m.\u001B[0m\u001B[0mxaxis\u001B[0m\u001B[1;33m,\u001B[0m \u001B[0mrot\u001B[0m\u001B[1;33m=\u001B[0m\u001B[0mself\u001B[0m\u001B[1;33m.\u001B[0m\u001B[0mrot\u001B[0m\u001B[1;33m,\u001B[0m \u001B[0mfontsize\u001B[0m\u001B[1;33m=\u001B[0m\u001B[0mself\u001B[0m\u001B[1;33m.\u001B[0m\u001B[0mfontsize\u001B[0m\u001B[1;33m)\u001B[0m\u001B[1;33m\u001B[0m\u001B[1;33m\u001B[0m\u001B[0m\n\u001B[0m\u001B[0;32m    474\u001B[0m             \u001B[0mself\u001B[0m\u001B[1;33m.\u001B[0m\u001B[0m_apply_axis_properties\u001B[0m\u001B[1;33m(\u001B[0m\u001B[0max\u001B[0m\u001B[1;33m.\u001B[0m\u001B[0myaxis\u001B[0m\u001B[1;33m,\u001B[0m \u001B[0mfontsize\u001B[0m\u001B[1;33m=\u001B[0m\u001B[0mself\u001B[0m\u001B[1;33m.\u001B[0m\u001B[0mfontsize\u001B[0m\u001B[1;33m)\u001B[0m\u001B[1;33m\u001B[0m\u001B[1;33m\u001B[0m\u001B[0m\n\u001B[0;32m    475\u001B[0m \u001B[1;33m\u001B[0m\u001B[0m\n",
      "\u001B[1;32m~\\PycharmProjects\\POO\\UCEMA\\venv\\lib\\site-packages\\pandas\\plotting\\_matplotlib\\core.py\u001B[0m in \u001B[0;36m_apply_axis_properties\u001B[1;34m(self, axis, rot, fontsize)\u001B[0m\n\u001B[0;32m    559\u001B[0m         \u001B[1;32mif\u001B[0m \u001B[0mrot\u001B[0m \u001B[1;32mis\u001B[0m \u001B[1;32mnot\u001B[0m \u001B[1;32mNone\u001B[0m \u001B[1;32mor\u001B[0m \u001B[0mfontsize\u001B[0m \u001B[1;32mis\u001B[0m \u001B[1;32mnot\u001B[0m \u001B[1;32mNone\u001B[0m\u001B[1;33m:\u001B[0m\u001B[1;33m\u001B[0m\u001B[1;33m\u001B[0m\u001B[0m\n\u001B[0;32m    560\u001B[0m             \u001B[1;31m# rot=0 is a valid setting, hence the explicit None check\u001B[0m\u001B[1;33m\u001B[0m\u001B[1;33m\u001B[0m\u001B[0m\n\u001B[1;32m--> 561\u001B[1;33m             \u001B[0mlabels\u001B[0m \u001B[1;33m=\u001B[0m \u001B[0maxis\u001B[0m\u001B[1;33m.\u001B[0m\u001B[0mget_majorticklabels\u001B[0m\u001B[1;33m(\u001B[0m\u001B[1;33m)\u001B[0m \u001B[1;33m+\u001B[0m \u001B[0maxis\u001B[0m\u001B[1;33m.\u001B[0m\u001B[0mget_minorticklabels\u001B[0m\u001B[1;33m(\u001B[0m\u001B[1;33m)\u001B[0m\u001B[1;33m\u001B[0m\u001B[1;33m\u001B[0m\u001B[0m\n\u001B[0m\u001B[0;32m    562\u001B[0m             \u001B[1;32mfor\u001B[0m \u001B[0mlabel\u001B[0m \u001B[1;32min\u001B[0m \u001B[0mlabels\u001B[0m\u001B[1;33m:\u001B[0m\u001B[1;33m\u001B[0m\u001B[1;33m\u001B[0m\u001B[0m\n\u001B[0;32m    563\u001B[0m                 \u001B[1;32mif\u001B[0m \u001B[0mrot\u001B[0m \u001B[1;32mis\u001B[0m \u001B[1;32mnot\u001B[0m \u001B[1;32mNone\u001B[0m\u001B[1;33m:\u001B[0m\u001B[1;33m\u001B[0m\u001B[1;33m\u001B[0m\u001B[0m\n",
      "\u001B[1;32m~\\PycharmProjects\\POO\\UCEMA\\venv\\lib\\site-packages\\matplotlib\\axis.py\u001B[0m in \u001B[0;36mget_majorticklabels\u001B[1;34m(self)\u001B[0m\n\u001B[0;32m   1199\u001B[0m     \u001B[1;32mdef\u001B[0m \u001B[0mget_majorticklabels\u001B[0m\u001B[1;33m(\u001B[0m\u001B[0mself\u001B[0m\u001B[1;33m)\u001B[0m\u001B[1;33m:\u001B[0m\u001B[1;33m\u001B[0m\u001B[1;33m\u001B[0m\u001B[0m\n\u001B[0;32m   1200\u001B[0m         \u001B[1;34m\"\"\"Return this Axis' major tick labels, as a list of `~.text.Text`.\"\"\"\u001B[0m\u001B[1;33m\u001B[0m\u001B[1;33m\u001B[0m\u001B[0m\n\u001B[1;32m-> 1201\u001B[1;33m         \u001B[0mticks\u001B[0m \u001B[1;33m=\u001B[0m \u001B[0mself\u001B[0m\u001B[1;33m.\u001B[0m\u001B[0mget_major_ticks\u001B[0m\u001B[1;33m(\u001B[0m\u001B[1;33m)\u001B[0m\u001B[1;33m\u001B[0m\u001B[1;33m\u001B[0m\u001B[0m\n\u001B[0m\u001B[0;32m   1202\u001B[0m         \u001B[0mlabels1\u001B[0m \u001B[1;33m=\u001B[0m \u001B[1;33m[\u001B[0m\u001B[0mtick\u001B[0m\u001B[1;33m.\u001B[0m\u001B[0mlabel1\u001B[0m \u001B[1;32mfor\u001B[0m \u001B[0mtick\u001B[0m \u001B[1;32min\u001B[0m \u001B[0mticks\u001B[0m \u001B[1;32mif\u001B[0m \u001B[0mtick\u001B[0m\u001B[1;33m.\u001B[0m\u001B[0mlabel1\u001B[0m\u001B[1;33m.\u001B[0m\u001B[0mget_visible\u001B[0m\u001B[1;33m(\u001B[0m\u001B[1;33m)\u001B[0m\u001B[1;33m]\u001B[0m\u001B[1;33m\u001B[0m\u001B[1;33m\u001B[0m\u001B[0m\n\u001B[0;32m   1203\u001B[0m         \u001B[0mlabels2\u001B[0m \u001B[1;33m=\u001B[0m \u001B[1;33m[\u001B[0m\u001B[0mtick\u001B[0m\u001B[1;33m.\u001B[0m\u001B[0mlabel2\u001B[0m \u001B[1;32mfor\u001B[0m \u001B[0mtick\u001B[0m \u001B[1;32min\u001B[0m \u001B[0mticks\u001B[0m \u001B[1;32mif\u001B[0m \u001B[0mtick\u001B[0m\u001B[1;33m.\u001B[0m\u001B[0mlabel2\u001B[0m\u001B[1;33m.\u001B[0m\u001B[0mget_visible\u001B[0m\u001B[1;33m(\u001B[0m\u001B[1;33m)\u001B[0m\u001B[1;33m]\u001B[0m\u001B[1;33m\u001B[0m\u001B[1;33m\u001B[0m\u001B[0m\n",
      "\u001B[1;32m~\\PycharmProjects\\POO\\UCEMA\\venv\\lib\\site-packages\\matplotlib\\axis.py\u001B[0m in \u001B[0;36mget_major_ticks\u001B[1;34m(self, numticks)\u001B[0m\n\u001B[0;32m   1369\u001B[0m         \u001B[1;34mr\"\"\"Return the list of major `.Tick`\\s.\"\"\"\u001B[0m\u001B[1;33m\u001B[0m\u001B[1;33m\u001B[0m\u001B[0m\n\u001B[0;32m   1370\u001B[0m         \u001B[1;32mif\u001B[0m \u001B[0mnumticks\u001B[0m \u001B[1;32mis\u001B[0m \u001B[1;32mNone\u001B[0m\u001B[1;33m:\u001B[0m\u001B[1;33m\u001B[0m\u001B[1;33m\u001B[0m\u001B[0m\n\u001B[1;32m-> 1371\u001B[1;33m             \u001B[0mnumticks\u001B[0m \u001B[1;33m=\u001B[0m \u001B[0mlen\u001B[0m\u001B[1;33m(\u001B[0m\u001B[0mself\u001B[0m\u001B[1;33m.\u001B[0m\u001B[0mget_majorticklocs\u001B[0m\u001B[1;33m(\u001B[0m\u001B[1;33m)\u001B[0m\u001B[1;33m)\u001B[0m\u001B[1;33m\u001B[0m\u001B[1;33m\u001B[0m\u001B[0m\n\u001B[0m\u001B[0;32m   1372\u001B[0m \u001B[1;33m\u001B[0m\u001B[0m\n\u001B[0;32m   1373\u001B[0m         \u001B[1;32mwhile\u001B[0m \u001B[0mlen\u001B[0m\u001B[1;33m(\u001B[0m\u001B[0mself\u001B[0m\u001B[1;33m.\u001B[0m\u001B[0mmajorTicks\u001B[0m\u001B[1;33m)\u001B[0m \u001B[1;33m<\u001B[0m \u001B[0mnumticks\u001B[0m\u001B[1;33m:\u001B[0m\u001B[1;33m\u001B[0m\u001B[1;33m\u001B[0m\u001B[0m\n",
      "\u001B[1;32m~\\PycharmProjects\\POO\\UCEMA\\venv\\lib\\site-packages\\matplotlib\\axis.py\u001B[0m in \u001B[0;36mget_majorticklocs\u001B[1;34m(self)\u001B[0m\n\u001B[0;32m   1275\u001B[0m     \u001B[1;32mdef\u001B[0m \u001B[0mget_majorticklocs\u001B[0m\u001B[1;33m(\u001B[0m\u001B[0mself\u001B[0m\u001B[1;33m)\u001B[0m\u001B[1;33m:\u001B[0m\u001B[1;33m\u001B[0m\u001B[1;33m\u001B[0m\u001B[0m\n\u001B[0;32m   1276\u001B[0m         \u001B[1;34m\"\"\"Return this Axis' major tick locations in data coordinates.\"\"\"\u001B[0m\u001B[1;33m\u001B[0m\u001B[1;33m\u001B[0m\u001B[0m\n\u001B[1;32m-> 1277\u001B[1;33m         \u001B[1;32mreturn\u001B[0m \u001B[0mself\u001B[0m\u001B[1;33m.\u001B[0m\u001B[0mmajor\u001B[0m\u001B[1;33m.\u001B[0m\u001B[0mlocator\u001B[0m\u001B[1;33m(\u001B[0m\u001B[1;33m)\u001B[0m\u001B[1;33m\u001B[0m\u001B[1;33m\u001B[0m\u001B[0m\n\u001B[0m\u001B[0;32m   1278\u001B[0m \u001B[1;33m\u001B[0m\u001B[0m\n\u001B[0;32m   1279\u001B[0m     \u001B[1;32mdef\u001B[0m \u001B[0mget_minorticklocs\u001B[0m\u001B[1;33m(\u001B[0m\u001B[0mself\u001B[0m\u001B[1;33m)\u001B[0m\u001B[1;33m:\u001B[0m\u001B[1;33m\u001B[0m\u001B[1;33m\u001B[0m\u001B[0m\n",
      "\u001B[1;32m~\\PycharmProjects\\POO\\UCEMA\\venv\\lib\\site-packages\\matplotlib\\ticker.py\u001B[0m in \u001B[0;36m__call__\u001B[1;34m(self)\u001B[0m\n\u001B[0;32m   2111\u001B[0m \u001B[1;33m\u001B[0m\u001B[0m\n\u001B[0;32m   2112\u001B[0m     \u001B[1;32mdef\u001B[0m \u001B[0m__call__\u001B[0m\u001B[1;33m(\u001B[0m\u001B[0mself\u001B[0m\u001B[1;33m)\u001B[0m\u001B[1;33m:\u001B[0m\u001B[1;33m\u001B[0m\u001B[1;33m\u001B[0m\u001B[0m\n\u001B[1;32m-> 2113\u001B[1;33m         \u001B[0mvmin\u001B[0m\u001B[1;33m,\u001B[0m \u001B[0mvmax\u001B[0m \u001B[1;33m=\u001B[0m \u001B[0mself\u001B[0m\u001B[1;33m.\u001B[0m\u001B[0maxis\u001B[0m\u001B[1;33m.\u001B[0m\u001B[0mget_view_interval\u001B[0m\u001B[1;33m(\u001B[0m\u001B[1;33m)\u001B[0m\u001B[1;33m\u001B[0m\u001B[1;33m\u001B[0m\u001B[0m\n\u001B[0m\u001B[0;32m   2114\u001B[0m         \u001B[1;32mreturn\u001B[0m \u001B[0mself\u001B[0m\u001B[1;33m.\u001B[0m\u001B[0mtick_values\u001B[0m\u001B[1;33m(\u001B[0m\u001B[0mvmin\u001B[0m\u001B[1;33m,\u001B[0m \u001B[0mvmax\u001B[0m\u001B[1;33m)\u001B[0m\u001B[1;33m\u001B[0m\u001B[1;33m\u001B[0m\u001B[0m\n\u001B[0;32m   2115\u001B[0m \u001B[1;33m\u001B[0m\u001B[0m\n",
      "\u001B[1;32m~\\PycharmProjects\\POO\\UCEMA\\venv\\lib\\site-packages\\matplotlib\\axis.py\u001B[0m in \u001B[0;36mgetter\u001B[1;34m(self)\u001B[0m\n\u001B[0;32m   1985\u001B[0m     \u001B[1;32mdef\u001B[0m \u001B[0mgetter\u001B[0m\u001B[1;33m(\u001B[0m\u001B[0mself\u001B[0m\u001B[1;33m)\u001B[0m\u001B[1;33m:\u001B[0m\u001B[1;33m\u001B[0m\u001B[1;33m\u001B[0m\u001B[0m\n\u001B[0;32m   1986\u001B[0m         \u001B[1;31m# docstring inherited.\u001B[0m\u001B[1;33m\u001B[0m\u001B[1;33m\u001B[0m\u001B[0m\n\u001B[1;32m-> 1987\u001B[1;33m         \u001B[1;32mreturn\u001B[0m \u001B[0mgetattr\u001B[0m\u001B[1;33m(\u001B[0m\u001B[0mgetattr\u001B[0m\u001B[1;33m(\u001B[0m\u001B[0mself\u001B[0m\u001B[1;33m.\u001B[0m\u001B[0maxes\u001B[0m\u001B[1;33m,\u001B[0m \u001B[0mlim_name\u001B[0m\u001B[1;33m)\u001B[0m\u001B[1;33m,\u001B[0m \u001B[0mattr_name\u001B[0m\u001B[1;33m)\u001B[0m\u001B[1;33m\u001B[0m\u001B[1;33m\u001B[0m\u001B[0m\n\u001B[0m\u001B[0;32m   1988\u001B[0m \u001B[1;33m\u001B[0m\u001B[0m\n\u001B[0;32m   1989\u001B[0m     \u001B[1;32mdef\u001B[0m \u001B[0msetter\u001B[0m\u001B[1;33m(\u001B[0m\u001B[0mself\u001B[0m\u001B[1;33m,\u001B[0m \u001B[0mvmin\u001B[0m\u001B[1;33m,\u001B[0m \u001B[0mvmax\u001B[0m\u001B[1;33m,\u001B[0m \u001B[0mignore\u001B[0m\u001B[1;33m=\u001B[0m\u001B[1;32mFalse\u001B[0m\u001B[1;33m)\u001B[0m\u001B[1;33m:\u001B[0m\u001B[1;33m\u001B[0m\u001B[1;33m\u001B[0m\u001B[0m\n",
      "\u001B[1;32m~\\PycharmProjects\\POO\\UCEMA\\venv\\lib\\site-packages\\matplotlib\\axes\\_base.py\u001B[0m in \u001B[0;36mviewLim\u001B[1;34m(self)\u001B[0m\n\u001B[0;32m    779\u001B[0m     \u001B[1;33m@\u001B[0m\u001B[0mproperty\u001B[0m\u001B[1;33m\u001B[0m\u001B[1;33m\u001B[0m\u001B[0m\n\u001B[0;32m    780\u001B[0m     \u001B[1;32mdef\u001B[0m \u001B[0mviewLim\u001B[0m\u001B[1;33m(\u001B[0m\u001B[0mself\u001B[0m\u001B[1;33m)\u001B[0m\u001B[1;33m:\u001B[0m\u001B[1;33m\u001B[0m\u001B[1;33m\u001B[0m\u001B[0m\n\u001B[1;32m--> 781\u001B[1;33m         \u001B[0mself\u001B[0m\u001B[1;33m.\u001B[0m\u001B[0m_unstale_viewLim\u001B[0m\u001B[1;33m(\u001B[0m\u001B[1;33m)\u001B[0m\u001B[1;33m\u001B[0m\u001B[1;33m\u001B[0m\u001B[0m\n\u001B[0m\u001B[0;32m    782\u001B[0m         \u001B[1;32mreturn\u001B[0m \u001B[0mself\u001B[0m\u001B[1;33m.\u001B[0m\u001B[0m_viewLim\u001B[0m\u001B[1;33m\u001B[0m\u001B[1;33m\u001B[0m\u001B[0m\n\u001B[0;32m    783\u001B[0m \u001B[1;33m\u001B[0m\u001B[0m\n",
      "\u001B[1;32m~\\PycharmProjects\\POO\\UCEMA\\venv\\lib\\site-packages\\matplotlib\\axes\\_base.py\u001B[0m in \u001B[0;36m_unstale_viewLim\u001B[1;34m(self)\u001B[0m\n\u001B[0;32m    774\u001B[0m                 \u001B[1;32mfor\u001B[0m \u001B[0max\u001B[0m \u001B[1;32min\u001B[0m \u001B[0mself\u001B[0m\u001B[1;33m.\u001B[0m\u001B[0m_shared_axes\u001B[0m\u001B[1;33m[\u001B[0m\u001B[0mname\u001B[0m\u001B[1;33m]\u001B[0m\u001B[1;33m.\u001B[0m\u001B[0mget_siblings\u001B[0m\u001B[1;33m(\u001B[0m\u001B[0mself\u001B[0m\u001B[1;33m)\u001B[0m\u001B[1;33m:\u001B[0m\u001B[1;33m\u001B[0m\u001B[1;33m\u001B[0m\u001B[0m\n\u001B[0;32m    775\u001B[0m                     \u001B[0max\u001B[0m\u001B[1;33m.\u001B[0m\u001B[0m_stale_viewlims\u001B[0m\u001B[1;33m[\u001B[0m\u001B[0mname\u001B[0m\u001B[1;33m]\u001B[0m \u001B[1;33m=\u001B[0m \u001B[1;32mFalse\u001B[0m\u001B[1;33m\u001B[0m\u001B[1;33m\u001B[0m\u001B[0m\n\u001B[1;32m--> 776\u001B[1;33m             self.autoscale_view(**{f\"scale{name}\": scale\n\u001B[0m\u001B[0;32m    777\u001B[0m                                    for name, scale in need_scale.items()})\n\u001B[0;32m    778\u001B[0m \u001B[1;33m\u001B[0m\u001B[0m\n",
      "\u001B[1;32m~\\PycharmProjects\\POO\\UCEMA\\venv\\lib\\site-packages\\matplotlib\\axes\\_base.py\u001B[0m in \u001B[0;36mautoscale_view\u001B[1;34m(self, tight, scalex, scaley)\u001B[0m\n\u001B[0;32m   2930\u001B[0m             \u001B[1;31m# End of definition of internal function 'handle_single_axis'.\u001B[0m\u001B[1;33m\u001B[0m\u001B[1;33m\u001B[0m\u001B[0m\n\u001B[0;32m   2931\u001B[0m \u001B[1;33m\u001B[0m\u001B[0m\n\u001B[1;32m-> 2932\u001B[1;33m         handle_single_axis(\n\u001B[0m\u001B[0;32m   2933\u001B[0m             \u001B[0mscalex\u001B[0m\u001B[1;33m,\u001B[0m \u001B[0mself\u001B[0m\u001B[1;33m.\u001B[0m\u001B[0m_autoscaleXon\u001B[0m\u001B[1;33m,\u001B[0m \u001B[0mself\u001B[0m\u001B[1;33m.\u001B[0m\u001B[0m_shared_axes\u001B[0m\u001B[1;33m[\u001B[0m\u001B[1;34m\"x\"\u001B[0m\u001B[1;33m]\u001B[0m\u001B[1;33m,\u001B[0m \u001B[1;34m'x'\u001B[0m\u001B[1;33m,\u001B[0m\u001B[1;33m\u001B[0m\u001B[1;33m\u001B[0m\u001B[0m\n\u001B[0;32m   2934\u001B[0m             self.xaxis, self._xmargin, x_stickies, self.set_xbound)\n",
      "\u001B[1;32m~\\PycharmProjects\\POO\\UCEMA\\venv\\lib\\site-packages\\matplotlib\\axes\\_base.py\u001B[0m in \u001B[0;36mhandle_single_axis\u001B[1;34m(scale, autoscaleon, shared_axes, name, axis, margin, stickies, set_bound)\u001B[0m\n\u001B[0;32m   2893\u001B[0m             \u001B[1;31m# default limits.\u001B[0m\u001B[1;33m\u001B[0m\u001B[1;33m\u001B[0m\u001B[0m\n\u001B[0;32m   2894\u001B[0m             \u001B[0mlocator\u001B[0m \u001B[1;33m=\u001B[0m \u001B[0maxis\u001B[0m\u001B[1;33m.\u001B[0m\u001B[0mget_major_locator\u001B[0m\u001B[1;33m(\u001B[0m\u001B[1;33m)\u001B[0m\u001B[1;33m\u001B[0m\u001B[1;33m\u001B[0m\u001B[0m\n\u001B[1;32m-> 2895\u001B[1;33m             \u001B[0mx0\u001B[0m\u001B[1;33m,\u001B[0m \u001B[0mx1\u001B[0m \u001B[1;33m=\u001B[0m \u001B[0mlocator\u001B[0m\u001B[1;33m.\u001B[0m\u001B[0mnonsingular\u001B[0m\u001B[1;33m(\u001B[0m\u001B[0mx0\u001B[0m\u001B[1;33m,\u001B[0m \u001B[0mx1\u001B[0m\u001B[1;33m)\u001B[0m\u001B[1;33m\u001B[0m\u001B[1;33m\u001B[0m\u001B[0m\n\u001B[0m\u001B[0;32m   2896\u001B[0m \u001B[1;33m\u001B[0m\u001B[0m\n\u001B[0;32m   2897\u001B[0m             \u001B[1;31m# Prevent margin addition from crossing a sticky value.  A small\u001B[0m\u001B[1;33m\u001B[0m\u001B[1;33m\u001B[0m\u001B[0m\n",
      "\u001B[1;32m~\\PycharmProjects\\POO\\UCEMA\\venv\\lib\\site-packages\\matplotlib\\ticker.py\u001B[0m in \u001B[0;36mnonsingular\u001B[1;34m(self, v0, v1)\u001B[0m\n\u001B[0;32m   1652\u001B[0m         \u001B[1;33m-\u001B[0m \u001B[0mOtherwise\u001B[0m\u001B[1;33m,\u001B[0m\u001B[0;31m \u001B[0m\u001B[0;31m`\u001B[0m\u001B[0;31m`\u001B[0m\u001B[1;33m(\u001B[0m\u001B[0mv0\u001B[0m\u001B[1;33m,\u001B[0m \u001B[0mv1\u001B[0m\u001B[1;33m)\u001B[0m\u001B[0;31m`\u001B[0m\u001B[0;31m`\u001B[0m \u001B[1;32mis\u001B[0m \u001B[0mreturned\u001B[0m \u001B[0mwithout\u001B[0m \u001B[0mmodification\u001B[0m\u001B[1;33m.\u001B[0m\u001B[1;33m\u001B[0m\u001B[1;33m\u001B[0m\u001B[0m\n\u001B[0;32m   1653\u001B[0m         \"\"\"\n\u001B[1;32m-> 1654\u001B[1;33m         \u001B[1;32mreturn\u001B[0m \u001B[0mmtransforms\u001B[0m\u001B[1;33m.\u001B[0m\u001B[0mnonsingular\u001B[0m\u001B[1;33m(\u001B[0m\u001B[0mv0\u001B[0m\u001B[1;33m,\u001B[0m \u001B[0mv1\u001B[0m\u001B[1;33m,\u001B[0m \u001B[0mexpander\u001B[0m\u001B[1;33m=\u001B[0m\u001B[1;36m.05\u001B[0m\u001B[1;33m)\u001B[0m\u001B[1;33m\u001B[0m\u001B[1;33m\u001B[0m\u001B[0m\n\u001B[0m\u001B[0;32m   1655\u001B[0m \u001B[1;33m\u001B[0m\u001B[0m\n\u001B[0;32m   1656\u001B[0m     \u001B[1;32mdef\u001B[0m \u001B[0mview_limits\u001B[0m\u001B[1;33m(\u001B[0m\u001B[0mself\u001B[0m\u001B[1;33m,\u001B[0m \u001B[0mvmin\u001B[0m\u001B[1;33m,\u001B[0m \u001B[0mvmax\u001B[0m\u001B[1;33m)\u001B[0m\u001B[1;33m:\u001B[0m\u001B[1;33m\u001B[0m\u001B[1;33m\u001B[0m\u001B[0m\n",
      "\u001B[1;32m~\\PycharmProjects\\POO\\UCEMA\\venv\\lib\\site-packages\\matplotlib\\transforms.py\u001B[0m in \u001B[0;36mnonsingular\u001B[1;34m(vmin, vmax, expander, tiny, increasing)\u001B[0m\n\u001B[0;32m   2878\u001B[0m \u001B[1;33m\u001B[0m\u001B[0m\n\u001B[0;32m   2879\u001B[0m     \u001B[0mmaxabsvalue\u001B[0m \u001B[1;33m=\u001B[0m \u001B[0mmax\u001B[0m\u001B[1;33m(\u001B[0m\u001B[0mabs\u001B[0m\u001B[1;33m(\u001B[0m\u001B[0mvmin\u001B[0m\u001B[1;33m)\u001B[0m\u001B[1;33m,\u001B[0m \u001B[0mabs\u001B[0m\u001B[1;33m(\u001B[0m\u001B[0mvmax\u001B[0m\u001B[1;33m)\u001B[0m\u001B[1;33m)\u001B[0m\u001B[1;33m\u001B[0m\u001B[1;33m\u001B[0m\u001B[0m\n\u001B[1;32m-> 2880\u001B[1;33m     \u001B[1;32mif\u001B[0m \u001B[0mmaxabsvalue\u001B[0m \u001B[1;33m<\u001B[0m \u001B[1;33m(\u001B[0m\u001B[1;36m1e6\u001B[0m \u001B[1;33m/\u001B[0m \u001B[0mtiny\u001B[0m\u001B[1;33m)\u001B[0m \u001B[1;33m*\u001B[0m \u001B[0mnp\u001B[0m\u001B[1;33m.\u001B[0m\u001B[0mfinfo\u001B[0m\u001B[1;33m(\u001B[0m\u001B[0mfloat\u001B[0m\u001B[1;33m)\u001B[0m\u001B[1;33m.\u001B[0m\u001B[0mtiny\u001B[0m\u001B[1;33m:\u001B[0m\u001B[1;33m\u001B[0m\u001B[1;33m\u001B[0m\u001B[0m\n\u001B[0m\u001B[0;32m   2881\u001B[0m         \u001B[0mvmin\u001B[0m \u001B[1;33m=\u001B[0m \u001B[1;33m-\u001B[0m\u001B[0mexpander\u001B[0m\u001B[1;33m\u001B[0m\u001B[1;33m\u001B[0m\u001B[0m\n\u001B[0;32m   2882\u001B[0m         \u001B[0mvmax\u001B[0m \u001B[1;33m=\u001B[0m \u001B[0mexpander\u001B[0m\u001B[1;33m\u001B[0m\u001B[1;33m\u001B[0m\u001B[0m\n",
      "\u001B[1;32m~\\PycharmProjects\\POO\\UCEMA\\venv\\lib\\site-packages\\numpy\\core\\getlimits.py\u001B[0m in \u001B[0;36m__new__\u001B[1;34m(cls, dtype)\u001B[0m\n\u001B[0;32m    460\u001B[0m         \u001B[1;32mexcept\u001B[0m \u001B[0mTypeError\u001B[0m\u001B[1;33m:\u001B[0m\u001B[1;33m\u001B[0m\u001B[1;33m\u001B[0m\u001B[0m\n\u001B[0;32m    461\u001B[0m             \u001B[1;31m# In case a float instance was given\u001B[0m\u001B[1;33m\u001B[0m\u001B[1;33m\u001B[0m\u001B[0m\n\u001B[1;32m--> 462\u001B[1;33m             \u001B[0mdtype\u001B[0m \u001B[1;33m=\u001B[0m \u001B[0mnumeric\u001B[0m\u001B[1;33m.\u001B[0m\u001B[0mdtype\u001B[0m\u001B[1;33m(\u001B[0m\u001B[0mtype\u001B[0m\u001B[1;33m(\u001B[0m\u001B[0mdtype\u001B[0m\u001B[1;33m)\u001B[0m\u001B[1;33m)\u001B[0m\u001B[1;33m\u001B[0m\u001B[1;33m\u001B[0m\u001B[0m\n\u001B[0m\u001B[0;32m    463\u001B[0m \u001B[1;33m\u001B[0m\u001B[0m\n\u001B[0;32m    464\u001B[0m         \u001B[0mobj\u001B[0m \u001B[1;33m=\u001B[0m \u001B[0mcls\u001B[0m\u001B[1;33m.\u001B[0m\u001B[0m_finfo_cache\u001B[0m\u001B[1;33m.\u001B[0m\u001B[0mget\u001B[0m\u001B[1;33m(\u001B[0m\u001B[0mdtype\u001B[0m\u001B[1;33m,\u001B[0m \u001B[1;32mNone\u001B[0m\u001B[1;33m)\u001B[0m\u001B[1;33m\u001B[0m\u001B[1;33m\u001B[0m\u001B[0m\n",
      "\u001B[1;31mTypeError\u001B[0m: 'NoneType' object is not callable"
     ]
    },
    {
     "ename": "TypeError",
     "evalue": "'NoneType' object is not callable",
     "output_type": "error",
     "traceback": [
      "\u001B[1;31m---------------------------------------------------------------------------\u001B[0m",
      "\u001B[1;31mTypeError\u001B[0m                                 Traceback (most recent call last)",
      "\u001B[1;32m~\\PycharmProjects\\POO\\UCEMA\\venv\\lib\\site-packages\\numpy\\core\\getlimits.py\u001B[0m in \u001B[0;36m__new__\u001B[1;34m(cls, dtype)\u001B[0m\n\u001B[0;32m    458\u001B[0m         \u001B[1;32mtry\u001B[0m\u001B[1;33m:\u001B[0m\u001B[1;33m\u001B[0m\u001B[1;33m\u001B[0m\u001B[0m\n\u001B[1;32m--> 459\u001B[1;33m             \u001B[0mdtype\u001B[0m \u001B[1;33m=\u001B[0m \u001B[0mnumeric\u001B[0m\u001B[1;33m.\u001B[0m\u001B[0mdtype\u001B[0m\u001B[1;33m(\u001B[0m\u001B[0mdtype\u001B[0m\u001B[1;33m)\u001B[0m\u001B[1;33m\u001B[0m\u001B[1;33m\u001B[0m\u001B[0m\n\u001B[0m\u001B[0;32m    460\u001B[0m         \u001B[1;32mexcept\u001B[0m \u001B[0mTypeError\u001B[0m\u001B[1;33m:\u001B[0m\u001B[1;33m\u001B[0m\u001B[1;33m\u001B[0m\u001B[0m\n",
      "\u001B[1;31mTypeError\u001B[0m: 'NoneType' object is not callable",
      "\nDuring handling of the above exception, another exception occurred:\n",
      "\u001B[1;31mTypeError\u001B[0m                                 Traceback (most recent call last)",
      "\u001B[1;32m~\\PycharmProjects\\POO\\UCEMA\\venv\\lib\\site-packages\\matplotlib_inline\\backend_inline.py\u001B[0m in \u001B[0;36mshow\u001B[1;34m(close, block)\u001B[0m\n\u001B[0;32m     41\u001B[0m             display(\n\u001B[0;32m     42\u001B[0m                 \u001B[0mfigure_manager\u001B[0m\u001B[1;33m.\u001B[0m\u001B[0mcanvas\u001B[0m\u001B[1;33m.\u001B[0m\u001B[0mfigure\u001B[0m\u001B[1;33m,\u001B[0m\u001B[1;33m\u001B[0m\u001B[1;33m\u001B[0m\u001B[0m\n\u001B[1;32m---> 43\u001B[1;33m                 \u001B[0mmetadata\u001B[0m\u001B[1;33m=\u001B[0m\u001B[0m_fetch_figure_metadata\u001B[0m\u001B[1;33m(\u001B[0m\u001B[0mfigure_manager\u001B[0m\u001B[1;33m.\u001B[0m\u001B[0mcanvas\u001B[0m\u001B[1;33m.\u001B[0m\u001B[0mfigure\u001B[0m\u001B[1;33m)\u001B[0m\u001B[1;33m\u001B[0m\u001B[1;33m\u001B[0m\u001B[0m\n\u001B[0m\u001B[0;32m     44\u001B[0m             )\n\u001B[0;32m     45\u001B[0m     \u001B[1;32mfinally\u001B[0m\u001B[1;33m:\u001B[0m\u001B[1;33m\u001B[0m\u001B[1;33m\u001B[0m\u001B[0m\n",
      "\u001B[1;32m~\\PycharmProjects\\POO\\UCEMA\\venv\\lib\\site-packages\\matplotlib_inline\\backend_inline.py\u001B[0m in \u001B[0;36m_fetch_figure_metadata\u001B[1;34m(fig)\u001B[0m\n\u001B[0;32m    229\u001B[0m     \u001B[1;32mif\u001B[0m \u001B[0m_is_transparent\u001B[0m\u001B[1;33m(\u001B[0m\u001B[0mfig\u001B[0m\u001B[1;33m.\u001B[0m\u001B[0mget_facecolor\u001B[0m\u001B[1;33m(\u001B[0m\u001B[1;33m)\u001B[0m\u001B[1;33m)\u001B[0m\u001B[1;33m:\u001B[0m\u001B[1;33m\u001B[0m\u001B[1;33m\u001B[0m\u001B[0m\n\u001B[0;32m    230\u001B[0m         \u001B[1;31m# the background is transparent\u001B[0m\u001B[1;33m\u001B[0m\u001B[1;33m\u001B[0m\u001B[0m\n\u001B[1;32m--> 231\u001B[1;33m         ticksLight = _is_light([label.get_color()\n\u001B[0m\u001B[0;32m    232\u001B[0m                                 \u001B[1;32mfor\u001B[0m \u001B[0maxes\u001B[0m \u001B[1;32min\u001B[0m \u001B[0mfig\u001B[0m\u001B[1;33m.\u001B[0m\u001B[0maxes\u001B[0m\u001B[1;33m\u001B[0m\u001B[1;33m\u001B[0m\u001B[0m\n\u001B[0;32m    233\u001B[0m                                 \u001B[1;32mfor\u001B[0m \u001B[0maxis\u001B[0m \u001B[1;32min\u001B[0m \u001B[1;33m(\u001B[0m\u001B[0maxes\u001B[0m\u001B[1;33m.\u001B[0m\u001B[0mxaxis\u001B[0m\u001B[1;33m,\u001B[0m \u001B[0maxes\u001B[0m\u001B[1;33m.\u001B[0m\u001B[0myaxis\u001B[0m\u001B[1;33m)\u001B[0m\u001B[1;33m\u001B[0m\u001B[1;33m\u001B[0m\u001B[0m\n",
      "\u001B[1;32m~\\PycharmProjects\\POO\\UCEMA\\venv\\lib\\site-packages\\matplotlib_inline\\backend_inline.py\u001B[0m in \u001B[0;36m<listcomp>\u001B[1;34m(.0)\u001B[0m\n\u001B[0;32m    232\u001B[0m                                 \u001B[1;32mfor\u001B[0m \u001B[0maxes\u001B[0m \u001B[1;32min\u001B[0m \u001B[0mfig\u001B[0m\u001B[1;33m.\u001B[0m\u001B[0maxes\u001B[0m\u001B[1;33m\u001B[0m\u001B[1;33m\u001B[0m\u001B[0m\n\u001B[0;32m    233\u001B[0m                                 \u001B[1;32mfor\u001B[0m \u001B[0maxis\u001B[0m \u001B[1;32min\u001B[0m \u001B[1;33m(\u001B[0m\u001B[0maxes\u001B[0m\u001B[1;33m.\u001B[0m\u001B[0mxaxis\u001B[0m\u001B[1;33m,\u001B[0m \u001B[0maxes\u001B[0m\u001B[1;33m.\u001B[0m\u001B[0myaxis\u001B[0m\u001B[1;33m)\u001B[0m\u001B[1;33m\u001B[0m\u001B[1;33m\u001B[0m\u001B[0m\n\u001B[1;32m--> 234\u001B[1;33m                                 for label in axis.get_ticklabels()])\n\u001B[0m\u001B[0;32m    235\u001B[0m         \u001B[1;32mif\u001B[0m \u001B[0mticksLight\u001B[0m\u001B[1;33m.\u001B[0m\u001B[0msize\u001B[0m \u001B[1;32mand\u001B[0m \u001B[1;33m(\u001B[0m\u001B[0mticksLight\u001B[0m \u001B[1;33m==\u001B[0m \u001B[0mticksLight\u001B[0m\u001B[1;33m[\u001B[0m\u001B[1;36m0\u001B[0m\u001B[1;33m]\u001B[0m\u001B[1;33m)\u001B[0m\u001B[1;33m.\u001B[0m\u001B[0mall\u001B[0m\u001B[1;33m(\u001B[0m\u001B[1;33m)\u001B[0m\u001B[1;33m:\u001B[0m\u001B[1;33m\u001B[0m\u001B[1;33m\u001B[0m\u001B[0m\n\u001B[0;32m    236\u001B[0m             \u001B[1;31m# there are one or more tick labels, all with the same lightness\u001B[0m\u001B[1;33m\u001B[0m\u001B[1;33m\u001B[0m\u001B[0m\n",
      "\u001B[1;32m~\\PycharmProjects\\POO\\UCEMA\\venv\\lib\\site-packages\\matplotlib\\axis.py\u001B[0m in \u001B[0;36mget_ticklabels\u001B[1;34m(self, minor, which)\u001B[0m\n\u001B[0;32m   1247\u001B[0m         \u001B[1;32mif\u001B[0m \u001B[0mminor\u001B[0m\u001B[1;33m:\u001B[0m\u001B[1;33m\u001B[0m\u001B[1;33m\u001B[0m\u001B[0m\n\u001B[0;32m   1248\u001B[0m             \u001B[1;32mreturn\u001B[0m \u001B[0mself\u001B[0m\u001B[1;33m.\u001B[0m\u001B[0mget_minorticklabels\u001B[0m\u001B[1;33m(\u001B[0m\u001B[1;33m)\u001B[0m\u001B[1;33m\u001B[0m\u001B[1;33m\u001B[0m\u001B[0m\n\u001B[1;32m-> 1249\u001B[1;33m         \u001B[1;32mreturn\u001B[0m \u001B[0mself\u001B[0m\u001B[1;33m.\u001B[0m\u001B[0mget_majorticklabels\u001B[0m\u001B[1;33m(\u001B[0m\u001B[1;33m)\u001B[0m\u001B[1;33m\u001B[0m\u001B[1;33m\u001B[0m\u001B[0m\n\u001B[0m\u001B[0;32m   1250\u001B[0m \u001B[1;33m\u001B[0m\u001B[0m\n\u001B[0;32m   1251\u001B[0m     \u001B[1;32mdef\u001B[0m \u001B[0mget_majorticklines\u001B[0m\u001B[1;33m(\u001B[0m\u001B[0mself\u001B[0m\u001B[1;33m)\u001B[0m\u001B[1;33m:\u001B[0m\u001B[1;33m\u001B[0m\u001B[1;33m\u001B[0m\u001B[0m\n",
      "\u001B[1;32m~\\PycharmProjects\\POO\\UCEMA\\venv\\lib\\site-packages\\matplotlib\\axis.py\u001B[0m in \u001B[0;36mget_majorticklabels\u001B[1;34m(self)\u001B[0m\n\u001B[0;32m   1199\u001B[0m     \u001B[1;32mdef\u001B[0m \u001B[0mget_majorticklabels\u001B[0m\u001B[1;33m(\u001B[0m\u001B[0mself\u001B[0m\u001B[1;33m)\u001B[0m\u001B[1;33m:\u001B[0m\u001B[1;33m\u001B[0m\u001B[1;33m\u001B[0m\u001B[0m\n\u001B[0;32m   1200\u001B[0m         \u001B[1;34m\"\"\"Return this Axis' major tick labels, as a list of `~.text.Text`.\"\"\"\u001B[0m\u001B[1;33m\u001B[0m\u001B[1;33m\u001B[0m\u001B[0m\n\u001B[1;32m-> 1201\u001B[1;33m         \u001B[0mticks\u001B[0m \u001B[1;33m=\u001B[0m \u001B[0mself\u001B[0m\u001B[1;33m.\u001B[0m\u001B[0mget_major_ticks\u001B[0m\u001B[1;33m(\u001B[0m\u001B[1;33m)\u001B[0m\u001B[1;33m\u001B[0m\u001B[1;33m\u001B[0m\u001B[0m\n\u001B[0m\u001B[0;32m   1202\u001B[0m         \u001B[0mlabels1\u001B[0m \u001B[1;33m=\u001B[0m \u001B[1;33m[\u001B[0m\u001B[0mtick\u001B[0m\u001B[1;33m.\u001B[0m\u001B[0mlabel1\u001B[0m \u001B[1;32mfor\u001B[0m \u001B[0mtick\u001B[0m \u001B[1;32min\u001B[0m \u001B[0mticks\u001B[0m \u001B[1;32mif\u001B[0m \u001B[0mtick\u001B[0m\u001B[1;33m.\u001B[0m\u001B[0mlabel1\u001B[0m\u001B[1;33m.\u001B[0m\u001B[0mget_visible\u001B[0m\u001B[1;33m(\u001B[0m\u001B[1;33m)\u001B[0m\u001B[1;33m]\u001B[0m\u001B[1;33m\u001B[0m\u001B[1;33m\u001B[0m\u001B[0m\n\u001B[0;32m   1203\u001B[0m         \u001B[0mlabels2\u001B[0m \u001B[1;33m=\u001B[0m \u001B[1;33m[\u001B[0m\u001B[0mtick\u001B[0m\u001B[1;33m.\u001B[0m\u001B[0mlabel2\u001B[0m \u001B[1;32mfor\u001B[0m \u001B[0mtick\u001B[0m \u001B[1;32min\u001B[0m \u001B[0mticks\u001B[0m \u001B[1;32mif\u001B[0m \u001B[0mtick\u001B[0m\u001B[1;33m.\u001B[0m\u001B[0mlabel2\u001B[0m\u001B[1;33m.\u001B[0m\u001B[0mget_visible\u001B[0m\u001B[1;33m(\u001B[0m\u001B[1;33m)\u001B[0m\u001B[1;33m]\u001B[0m\u001B[1;33m\u001B[0m\u001B[1;33m\u001B[0m\u001B[0m\n",
      "\u001B[1;32m~\\PycharmProjects\\POO\\UCEMA\\venv\\lib\\site-packages\\matplotlib\\axis.py\u001B[0m in \u001B[0;36mget_major_ticks\u001B[1;34m(self, numticks)\u001B[0m\n\u001B[0;32m   1369\u001B[0m         \u001B[1;34mr\"\"\"Return the list of major `.Tick`\\s.\"\"\"\u001B[0m\u001B[1;33m\u001B[0m\u001B[1;33m\u001B[0m\u001B[0m\n\u001B[0;32m   1370\u001B[0m         \u001B[1;32mif\u001B[0m \u001B[0mnumticks\u001B[0m \u001B[1;32mis\u001B[0m \u001B[1;32mNone\u001B[0m\u001B[1;33m:\u001B[0m\u001B[1;33m\u001B[0m\u001B[1;33m\u001B[0m\u001B[0m\n\u001B[1;32m-> 1371\u001B[1;33m             \u001B[0mnumticks\u001B[0m \u001B[1;33m=\u001B[0m \u001B[0mlen\u001B[0m\u001B[1;33m(\u001B[0m\u001B[0mself\u001B[0m\u001B[1;33m.\u001B[0m\u001B[0mget_majorticklocs\u001B[0m\u001B[1;33m(\u001B[0m\u001B[1;33m)\u001B[0m\u001B[1;33m)\u001B[0m\u001B[1;33m\u001B[0m\u001B[1;33m\u001B[0m\u001B[0m\n\u001B[0m\u001B[0;32m   1372\u001B[0m \u001B[1;33m\u001B[0m\u001B[0m\n\u001B[0;32m   1373\u001B[0m         \u001B[1;32mwhile\u001B[0m \u001B[0mlen\u001B[0m\u001B[1;33m(\u001B[0m\u001B[0mself\u001B[0m\u001B[1;33m.\u001B[0m\u001B[0mmajorTicks\u001B[0m\u001B[1;33m)\u001B[0m \u001B[1;33m<\u001B[0m \u001B[0mnumticks\u001B[0m\u001B[1;33m:\u001B[0m\u001B[1;33m\u001B[0m\u001B[1;33m\u001B[0m\u001B[0m\n",
      "\u001B[1;32m~\\PycharmProjects\\POO\\UCEMA\\venv\\lib\\site-packages\\matplotlib\\axis.py\u001B[0m in \u001B[0;36mget_majorticklocs\u001B[1;34m(self)\u001B[0m\n\u001B[0;32m   1275\u001B[0m     \u001B[1;32mdef\u001B[0m \u001B[0mget_majorticklocs\u001B[0m\u001B[1;33m(\u001B[0m\u001B[0mself\u001B[0m\u001B[1;33m)\u001B[0m\u001B[1;33m:\u001B[0m\u001B[1;33m\u001B[0m\u001B[1;33m\u001B[0m\u001B[0m\n\u001B[0;32m   1276\u001B[0m         \u001B[1;34m\"\"\"Return this Axis' major tick locations in data coordinates.\"\"\"\u001B[0m\u001B[1;33m\u001B[0m\u001B[1;33m\u001B[0m\u001B[0m\n\u001B[1;32m-> 1277\u001B[1;33m         \u001B[1;32mreturn\u001B[0m \u001B[0mself\u001B[0m\u001B[1;33m.\u001B[0m\u001B[0mmajor\u001B[0m\u001B[1;33m.\u001B[0m\u001B[0mlocator\u001B[0m\u001B[1;33m(\u001B[0m\u001B[1;33m)\u001B[0m\u001B[1;33m\u001B[0m\u001B[1;33m\u001B[0m\u001B[0m\n\u001B[0m\u001B[0;32m   1278\u001B[0m \u001B[1;33m\u001B[0m\u001B[0m\n\u001B[0;32m   1279\u001B[0m     \u001B[1;32mdef\u001B[0m \u001B[0mget_minorticklocs\u001B[0m\u001B[1;33m(\u001B[0m\u001B[0mself\u001B[0m\u001B[1;33m)\u001B[0m\u001B[1;33m:\u001B[0m\u001B[1;33m\u001B[0m\u001B[1;33m\u001B[0m\u001B[0m\n",
      "\u001B[1;32m~\\PycharmProjects\\POO\\UCEMA\\venv\\lib\\site-packages\\matplotlib\\ticker.py\u001B[0m in \u001B[0;36m__call__\u001B[1;34m(self)\u001B[0m\n\u001B[0;32m   2112\u001B[0m     \u001B[1;32mdef\u001B[0m \u001B[0m__call__\u001B[0m\u001B[1;33m(\u001B[0m\u001B[0mself\u001B[0m\u001B[1;33m)\u001B[0m\u001B[1;33m:\u001B[0m\u001B[1;33m\u001B[0m\u001B[1;33m\u001B[0m\u001B[0m\n\u001B[0;32m   2113\u001B[0m         \u001B[0mvmin\u001B[0m\u001B[1;33m,\u001B[0m \u001B[0mvmax\u001B[0m \u001B[1;33m=\u001B[0m \u001B[0mself\u001B[0m\u001B[1;33m.\u001B[0m\u001B[0maxis\u001B[0m\u001B[1;33m.\u001B[0m\u001B[0mget_view_interval\u001B[0m\u001B[1;33m(\u001B[0m\u001B[1;33m)\u001B[0m\u001B[1;33m\u001B[0m\u001B[1;33m\u001B[0m\u001B[0m\n\u001B[1;32m-> 2114\u001B[1;33m         \u001B[1;32mreturn\u001B[0m \u001B[0mself\u001B[0m\u001B[1;33m.\u001B[0m\u001B[0mtick_values\u001B[0m\u001B[1;33m(\u001B[0m\u001B[0mvmin\u001B[0m\u001B[1;33m,\u001B[0m \u001B[0mvmax\u001B[0m\u001B[1;33m)\u001B[0m\u001B[1;33m\u001B[0m\u001B[1;33m\u001B[0m\u001B[0m\n\u001B[0m\u001B[0;32m   2115\u001B[0m \u001B[1;33m\u001B[0m\u001B[0m\n\u001B[0;32m   2116\u001B[0m     \u001B[1;32mdef\u001B[0m \u001B[0mtick_values\u001B[0m\u001B[1;33m(\u001B[0m\u001B[0mself\u001B[0m\u001B[1;33m,\u001B[0m \u001B[0mvmin\u001B[0m\u001B[1;33m,\u001B[0m \u001B[0mvmax\u001B[0m\u001B[1;33m)\u001B[0m\u001B[1;33m:\u001B[0m\u001B[1;33m\u001B[0m\u001B[1;33m\u001B[0m\u001B[0m\n",
      "\u001B[1;32m~\\PycharmProjects\\POO\\UCEMA\\venv\\lib\\site-packages\\matplotlib\\ticker.py\u001B[0m in \u001B[0;36mtick_values\u001B[1;34m(self, vmin, vmax)\u001B[0m\n\u001B[0;32m   2118\u001B[0m             \u001B[0mvmax\u001B[0m \u001B[1;33m=\u001B[0m \u001B[0mmax\u001B[0m\u001B[1;33m(\u001B[0m\u001B[0mabs\u001B[0m\u001B[1;33m(\u001B[0m\u001B[0mvmin\u001B[0m\u001B[1;33m)\u001B[0m\u001B[1;33m,\u001B[0m \u001B[0mabs\u001B[0m\u001B[1;33m(\u001B[0m\u001B[0mvmax\u001B[0m\u001B[1;33m)\u001B[0m\u001B[1;33m)\u001B[0m\u001B[1;33m\u001B[0m\u001B[1;33m\u001B[0m\u001B[0m\n\u001B[0;32m   2119\u001B[0m             \u001B[0mvmin\u001B[0m \u001B[1;33m=\u001B[0m \u001B[1;33m-\u001B[0m\u001B[0mvmax\u001B[0m\u001B[1;33m\u001B[0m\u001B[1;33m\u001B[0m\u001B[0m\n\u001B[1;32m-> 2120\u001B[1;33m         vmin, vmax = mtransforms.nonsingular(\n\u001B[0m\u001B[0;32m   2121\u001B[0m             vmin, vmax, expander=1e-13, tiny=1e-14)\n\u001B[0;32m   2122\u001B[0m         \u001B[0mlocs\u001B[0m \u001B[1;33m=\u001B[0m \u001B[0mself\u001B[0m\u001B[1;33m.\u001B[0m\u001B[0m_raw_ticks\u001B[0m\u001B[1;33m(\u001B[0m\u001B[0mvmin\u001B[0m\u001B[1;33m,\u001B[0m \u001B[0mvmax\u001B[0m\u001B[1;33m)\u001B[0m\u001B[1;33m\u001B[0m\u001B[1;33m\u001B[0m\u001B[0m\n",
      "\u001B[1;32m~\\PycharmProjects\\POO\\UCEMA\\venv\\lib\\site-packages\\matplotlib\\transforms.py\u001B[0m in \u001B[0;36mnonsingular\u001B[1;34m(vmin, vmax, expander, tiny, increasing)\u001B[0m\n\u001B[0;32m   2878\u001B[0m \u001B[1;33m\u001B[0m\u001B[0m\n\u001B[0;32m   2879\u001B[0m     \u001B[0mmaxabsvalue\u001B[0m \u001B[1;33m=\u001B[0m \u001B[0mmax\u001B[0m\u001B[1;33m(\u001B[0m\u001B[0mabs\u001B[0m\u001B[1;33m(\u001B[0m\u001B[0mvmin\u001B[0m\u001B[1;33m)\u001B[0m\u001B[1;33m,\u001B[0m \u001B[0mabs\u001B[0m\u001B[1;33m(\u001B[0m\u001B[0mvmax\u001B[0m\u001B[1;33m)\u001B[0m\u001B[1;33m)\u001B[0m\u001B[1;33m\u001B[0m\u001B[1;33m\u001B[0m\u001B[0m\n\u001B[1;32m-> 2880\u001B[1;33m     \u001B[1;32mif\u001B[0m \u001B[0mmaxabsvalue\u001B[0m \u001B[1;33m<\u001B[0m \u001B[1;33m(\u001B[0m\u001B[1;36m1e6\u001B[0m \u001B[1;33m/\u001B[0m \u001B[0mtiny\u001B[0m\u001B[1;33m)\u001B[0m \u001B[1;33m*\u001B[0m \u001B[0mnp\u001B[0m\u001B[1;33m.\u001B[0m\u001B[0mfinfo\u001B[0m\u001B[1;33m(\u001B[0m\u001B[0mfloat\u001B[0m\u001B[1;33m)\u001B[0m\u001B[1;33m.\u001B[0m\u001B[0mtiny\u001B[0m\u001B[1;33m:\u001B[0m\u001B[1;33m\u001B[0m\u001B[1;33m\u001B[0m\u001B[0m\n\u001B[0m\u001B[0;32m   2881\u001B[0m         \u001B[0mvmin\u001B[0m \u001B[1;33m=\u001B[0m \u001B[1;33m-\u001B[0m\u001B[0mexpander\u001B[0m\u001B[1;33m\u001B[0m\u001B[1;33m\u001B[0m\u001B[0m\n\u001B[0;32m   2882\u001B[0m         \u001B[0mvmax\u001B[0m \u001B[1;33m=\u001B[0m \u001B[0mexpander\u001B[0m\u001B[1;33m\u001B[0m\u001B[1;33m\u001B[0m\u001B[0m\n",
      "\u001B[1;32m~\\PycharmProjects\\POO\\UCEMA\\venv\\lib\\site-packages\\numpy\\core\\getlimits.py\u001B[0m in \u001B[0;36m__new__\u001B[1;34m(cls, dtype)\u001B[0m\n\u001B[0;32m    460\u001B[0m         \u001B[1;32mexcept\u001B[0m \u001B[0mTypeError\u001B[0m\u001B[1;33m:\u001B[0m\u001B[1;33m\u001B[0m\u001B[1;33m\u001B[0m\u001B[0m\n\u001B[0;32m    461\u001B[0m             \u001B[1;31m# In case a float instance was given\u001B[0m\u001B[1;33m\u001B[0m\u001B[1;33m\u001B[0m\u001B[0m\n\u001B[1;32m--> 462\u001B[1;33m             \u001B[0mdtype\u001B[0m \u001B[1;33m=\u001B[0m \u001B[0mnumeric\u001B[0m\u001B[1;33m.\u001B[0m\u001B[0mdtype\u001B[0m\u001B[1;33m(\u001B[0m\u001B[0mtype\u001B[0m\u001B[1;33m(\u001B[0m\u001B[0mdtype\u001B[0m\u001B[1;33m)\u001B[0m\u001B[1;33m)\u001B[0m\u001B[1;33m\u001B[0m\u001B[1;33m\u001B[0m\u001B[0m\n\u001B[0m\u001B[0;32m    463\u001B[0m \u001B[1;33m\u001B[0m\u001B[0m\n\u001B[0;32m    464\u001B[0m         \u001B[0mobj\u001B[0m \u001B[1;33m=\u001B[0m \u001B[0mcls\u001B[0m\u001B[1;33m.\u001B[0m\u001B[0m_finfo_cache\u001B[0m\u001B[1;33m.\u001B[0m\u001B[0mget\u001B[0m\u001B[1;33m(\u001B[0m\u001B[0mdtype\u001B[0m\u001B[1;33m,\u001B[0m \u001B[1;32mNone\u001B[0m\u001B[1;33m)\u001B[0m\u001B[1;33m\u001B[0m\u001B[1;33m\u001B[0m\u001B[0m\n",
      "\u001B[1;31mTypeError\u001B[0m: 'NoneType' object is not callable"
     ]
    }
   ],
   "source": [
    "importe_por_dia.plot()"
   ],
   "metadata": {
    "collapsed": false,
    "pycharm": {
     "name": "#%%\n"
    }
   }
  },
  {
   "cell_type": "markdown",
   "source": [
    "### 7- Cuanto dinero se cobro por sucursal?\n"
   ],
   "metadata": {
    "collapsed": false,
    "pycharm": {
     "name": "#%% md\n"
    }
   }
  },
  {
   "cell_type": "code",
   "execution_count": 227,
   "outputs": [
    {
     "data": {
      "text/plain": "<pandas.core.groupby.generic.DataFrameGroupBy object at 0x0000015E04BC5DE0>"
     },
     "execution_count": 227,
     "metadata": {},
     "output_type": "execute_result"
    }
   ],
   "source": [
    "por_sucursal = tarjetas.groupby(\"cod_sucursal\")\n",
    "por_sucursal"
   ],
   "metadata": {
    "collapsed": false,
    "pycharm": {
     "name": "#%%\n"
    }
   }
  },
  {
   "cell_type": "code",
   "execution_count": 228,
   "outputs": [
    {
     "data": {
      "text/plain": "cod_sucursal\n98     1.401451e+08\n241    9.773019e+05\n519    3.621125e+09\n671    2.418829e+08\n716    1.414878e+08\nName: importe_concepto, dtype: float64"
     },
     "execution_count": 228,
     "metadata": {},
     "output_type": "execute_result"
    }
   ],
   "source": [
    "por_sucursal[\"importe_concepto\"].sum()"
   ],
   "metadata": {
    "collapsed": false,
    "pycharm": {
     "name": "#%%\n"
    }
   }
  },
  {
   "cell_type": "markdown",
   "source": [
    "### 8- Cuanto dinero se cobro por día por sucursal?"
   ],
   "metadata": {
    "collapsed": false,
    "pycharm": {
     "name": "#%% md\n"
    }
   }
  },
  {
   "cell_type": "code",
   "execution_count": 229,
   "outputs": [],
   "source": [
    "dia_sucursal = tarjetas.groupby([\"cod_sucursal\", tarjetas[\"fecha_de_pago\"].dt.day])"
   ],
   "metadata": {
    "collapsed": false,
    "pycharm": {
     "name": "#%%\n"
    }
   }
  },
  {
   "cell_type": "code",
   "execution_count": 230,
   "outputs": [
    {
     "data": {
      "text/plain": "cod_sucursal  fecha_de_pago\n98            1                3.669431e+06\n              4                6.478613e+06\n              5                2.310820e+07\n              6                2.781455e+06\n              7                3.783879e+06\n                                   ...     \n716           25               8.586006e+06\n              26               8.186699e+06\n              27               4.061395e+06\n              28               4.247468e+06\n              29               5.308723e+06\nName: importe_concepto, Length: 91, dtype: float64"
     },
     "execution_count": 230,
     "metadata": {},
     "output_type": "execute_result"
    }
   ],
   "source": [
    "dia_sucursal[\"importe_concepto\"].sum() #primero agrupo y desp pido que sume el importe de lo que agrupamos"
   ],
   "metadata": {
    "collapsed": false,
    "pycharm": {
     "name": "#%%\n"
    }
   }
  },
  {
   "cell_type": "markdown",
   "source": [
    "### 9- Cuanto dinero se cobro por mes por sucursal y por descreaing?"
   ],
   "metadata": {
    "collapsed": false,
    "pycharm": {
     "name": "#%% md\n"
    }
   }
  },
  {
   "cell_type": "code",
   "execution_count": 233,
   "outputs": [],
   "source": [
    "suc_desc = tarjetas.groupby([\"cod_sucursal\",\"desc_creaing\"])"
   ],
   "metadata": {
    "collapsed": false,
    "pycharm": {
     "name": "#%%\n"
    }
   }
  },
  {
   "cell_type": "code",
   "execution_count": 234,
   "outputs": [
    {
     "data": {
      "text/plain": "cod_sucursal  desc_creaing                                \n98             PERCEPCION IVA R.G. 2408   3,00 %              1.133729e+04\n              AJUSTE SIRTAC JUL. 1RA QUINC                    1.861809e+04\n              ARANCEL                                         4.826957e+05\n              CRED FISCAL AHORA 12/18 VTA EN CUOTAS 10,50%    9.107601e+04\n              CRED. FISCAL PAG.S/DTO.FIN.OTORG 21,00%         3.315445e+04\n                                                                  ...     \n716           SUBTOTAL NETO DE PAGOS                          3.279938e+07\n              TOTAL DEDUCCIONES                               3.392830e+06\n              TOTAL LIQUIDACION                               3.277539e+07\n              VENTAS C/DESCUENTO CONTADO                      1.665725e+07\n              VENTAS C/DTO CUOTAS FINANC. OTORG.              1.951097e+07\nName: importe_concepto, Length: 135, dtype: float64"
     },
     "execution_count": 234,
     "metadata": {},
     "output_type": "execute_result"
    }
   ],
   "source": [
    "suc_desc[\"importe_concepto\"].sum()"
   ],
   "metadata": {
    "collapsed": false,
    "pycharm": {
     "name": "#%%\n"
    }
   }
  },
  {
   "cell_type": "markdown",
   "source": [],
   "metadata": {
    "collapsed": false,
    "pycharm": {
     "name": "#%% md\n"
    }
   }
  },
  {
   "cell_type": "markdown",
   "source": [
    "### 10- Pase a columnas los valores presentes en desc_creaing y ponga los importes como valores y en el indice la fecha de pago y el codigo de comercio"
   ],
   "metadata": {
    "collapsed": false,
    "pycharm": {
     "name": "#%% md\n"
    }
   }
  },
  {
   "cell_type": "code",
   "execution_count": 235,
   "outputs": [
    {
     "data": {
      "text/plain": "desc_creaing                 PERCEPCION IVA R.G. 2408   3,00 %  \\\nfecha_de_pago cod_comercio                                       \n2022-07-01    4547438                              1172.543333   \n              14935528                                     NaN   \n              14935556                                     NaN   \n              14935569                                     NaN   \n              15537297                               80.550000   \n...                                                        ...   \n2022-07-29    25108471                               94.320000   \n              25108573                               96.970000   \n              25877861                                     NaN   \n              25892842                              313.880000   \n              25892918                              120.940000   \n\ndesc_creaing                AJUSTE SIRTAC JUL. 1RA QUINC  \\\nfecha_de_pago cod_comercio                                 \n2022-07-01    4547438                                NaN   \n              14935528                               NaN   \n              14935556                               NaN   \n              14935569                               NaN   \n              15537297                               NaN   \n...                                                  ...   \n2022-07-29    25108471                               NaN   \n              25108573                               NaN   \n              25877861                               NaN   \n              25892842                               NaN   \n              25892918                               NaN   \n\ndesc_creaing                AJUSTE SIRTAC JUNIO 2DA QUINC  \\\nfecha_de_pago cod_comercio                                  \n2022-07-01    4547438                                 NaN   \n              14935528                                NaN   \n              14935556                                NaN   \n              14935569                                NaN   \n              15537297                                NaN   \n...                                                   ...   \n2022-07-29    25108471                                NaN   \n              25108573                                NaN   \n              25877861                                NaN   \n              25892842                                NaN   \n              25892918                                NaN   \n\ndesc_creaing                ARANCEL                                       \\\nfecha_de_pago cod_comercio                                                 \n2022-07-01    4547438                                          27239.148   \n              14935528                                            44.980   \n              14935556                                           170.950   \n              14935569                                           428.310   \n              15537297                                          2685.160   \n...                                                                  ...   \n2022-07-29    25108471                                          1602.325   \n              25108573                                          1919.290   \n              25877861                                           114.090   \n              25892842                                          5887.190   \n              25892918                                          2411.625   \n\ndesc_creaing                CARGO  SISTEMA CUOTAS MENS                    \\\nfecha_de_pago cod_comercio                                                 \n2022-07-01    4547438                                                NaN   \n              14935528                                               NaN   \n              14935556                                               NaN   \n              14935569                                               NaN   \n              15537297                                               NaN   \n...                                                                  ...   \n2022-07-29    25108471                                               NaN   \n              25108573                                               NaN   \n              25877861                                               NaN   \n              25892842                                               NaN   \n              25892918                                               NaN   \n\ndesc_creaing                CARGO LIQUIDACION ELECTR.  \\\nfecha_de_pago cod_comercio                              \n2022-07-01    4547438                             NaN   \n              14935528                            NaN   \n              14935556                            NaN   \n              14935569                            NaN   \n              15537297                            NaN   \n...                                               ...   \n2022-07-29    25108471                            NaN   \n              25108573                            NaN   \n              25877861                            NaN   \n              25892842                            NaN   \n              25892918                            NaN   \n\ndesc_creaing                CARGO POSNET  FIRSTDATA.COM.AR  \\\nfecha_de_pago cod_comercio                                   \n2022-07-01    4547438                                  NaN   \n              14935528                                 NaN   \n              14935556                                 NaN   \n              14935569                                 NaN   \n              15537297                                 NaN   \n...                                                    ...   \n2022-07-29    25108471                                 NaN   \n              25108573                                 NaN   \n              25877861                                 NaN   \n              25892842                                 NaN   \n              25892918                                 NaN   \n\ndesc_creaing                CARGOS DE ENTIDAD                             \\\nfecha_de_pago cod_comercio                                                 \n2022-07-01    4547438                                                NaN   \n              14935528                                               NaN   \n              14935556                                               NaN   \n              14935569                                               NaN   \n              15537297                                               NaN   \n...                                                                  ...   \n2022-07-29    25108471                                               NaN   \n              25108573                                               NaN   \n              25877861                                               NaN   \n              25892842                                               NaN   \n              25892918                                               NaN   \n\ndesc_creaing                CRED FISCAL AHORA 12/18 VTA EN CUOTAS 10,50%  \\\nfecha_de_pago cod_comercio                                                 \n2022-07-01    4547438                                          21828.430   \n              14935528                                            10.653   \n              14935556                                            40.485   \n              14935569                                           101.438   \n              15537297                                           703.068   \n...                                                                  ...   \n2022-07-29    25108471                                           926.160   \n              25108573                                           951.727   \n              25877861                                            34.007   \n              25892842                                          3338.294   \n              25892918                                          1268.384   \n\ndesc_creaing                CRED FISCAL AHORA 12/18 VTA EN CUOTAS 21,00%  ...  \\\nfecha_de_pago cod_comercio                                                ...   \n2022-07-01    4547438                                                NaN  ...   \n              14935528                                               NaN  ...   \n              14935556                                               NaN  ...   \n              14935569                                               NaN  ...   \n              15537297                                               NaN  ...   \n...                                                                  ...  ...   \n2022-07-29    25108471                                               NaN  ...   \n              25108573                                               NaN  ...   \n              25877861                                               NaN  ...   \n              25892842                                               NaN  ...   \n              25892918                                               NaN  ...   \n\ndesc_creaing                RETENCION ING.BRUTOS                          \\\nfecha_de_pago cod_comercio                                                 \n2022-07-01    4547438                                          36087.390   \n              14935528                                            45.640   \n              14935556                                               NaN   \n              14935569                                               NaN   \n              15537297                                               NaN   \n...                                                                  ...   \n2022-07-29    25108471                                               NaN   \n              25108573                                          2357.095   \n              25877861                                           118.000   \n              25892842                                               NaN   \n              25892918                                               NaN   \n\ndesc_creaing                RETENCION ING.BRUTOS SIRTAC  \\\nfecha_de_pago cod_comercio                                \n2022-07-01    4547438                         16976.078   \n              14935528                           24.990   \n              14935556                           94.970   \n              14935569                          237.950   \n              15537297                         1491.760   \n...                                                 ...   \n2022-07-29    25108471                          637.960   \n              25108573                          893.570   \n              25877861                           44.370   \n              25892842                         2608.340   \n              25892918                         1130.050   \n\ndesc_creaing                RETENCION IVA                                 \\\nfecha_de_pago cod_comercio                                                 \n2022-07-01    4547438                                          37162.576   \n              14935528                                            70.580   \n              14935556                                           268.210   \n              14935569                                           672.020   \n              15537297                                          4193.840   \n...                                                                  ...   \n2022-07-29    25108471                                          4880.370   \n              25108573                                          5019.620   \n              25877861                                               NaN   \n              25892842                                         16170.140   \n              25892918                                          6237.740   \n\ndesc_creaing                SERVICIO OPER. INTERNAC.  \\\nfecha_de_pago cod_comercio                             \n2022-07-01    4547438                            NaN   \n              14935528                           NaN   \n              14935556                           NaN   \n              14935569                           NaN   \n              15537297                           NaN   \n...                                              ...   \n2022-07-29    25108471                           NaN   \n              25108573                           NaN   \n              25877861                           NaN   \n              25892842                           NaN   \n              25892918                           NaN   \n\ndesc_creaing                SUBTOTAL NETO DE PAGOS                        \\\nfecha_de_pago cod_comercio                                                 \n2022-07-01    4547438                                        1737985.760   \n              14935528                                          2191.250   \n              14935556                                          8500.900   \n              14935569                                         21075.240   \n              15537297                                        131363.520   \n...                                                                  ...   \n2022-07-29    25108471                                         80386.370   \n              25108573                                        113618.635   \n              25877861                                          5675.950   \n              25892842                                        334385.205   \n              25892918                                        146494.320   \n\ndesc_creaing                TOTAL DEDUCCIONES                             \\\nfecha_de_pago cod_comercio                                                 \n2022-07-01    4547438                                         190399.028   \n              14935528                                           307.750   \n              14935556                                           996.100   \n              14935569                                          2719.760   \n              15537297                                         17812.100   \n...                                                                  ...   \n2022-07-29    25108471                                         10750.880   \n              25108573                                         14033.865   \n              25877861                                           662.250   \n              25892842                                         38234.660   \n              25892918                                         14941.200   \n\ndesc_creaing                TOTAL LIQUIDACION                             \\\nfecha_de_pago cod_comercio                                                 \n2022-07-01    4547438                                        1737985.760   \n              14935528                                          2191.250   \n              14935556                                          8500.900   \n              14935569                                         21075.240   \n              15537297                                        131363.520   \n...                                                                  ...   \n2022-07-29    25108471                                         80386.370   \n              25108573                                        113618.635   \n              25877861                                          5675.950   \n              25892842                                        334385.205   \n              25892918                                        146494.320   \n\ndesc_creaing                TOTAL PAGOS DE COMERCIOS                      \\\nfecha_de_pago cod_comercio                                                 \n2022-07-01    4547438                                                NaN   \n              14935528                                               NaN   \n              14935556                                               NaN   \n              14935569                                               NaN   \n              15537297                                               NaN   \n...                                                                  ...   \n2022-07-29    25108471                                               NaN   \n              25108573                                               NaN   \n              25877861                                               NaN   \n              25892842                                               NaN   \n              25892918                                               NaN   \n\ndesc_creaing                VENTAS C/DESCUENTO CONTADO                    \\\nfecha_de_pago cod_comercio                                                 \n2022-07-01    4547438                                       1.276856e+06   \n              14935528                                               NaN   \n              14935556                                               NaN   \n              14935569                                               NaN   \n              15537297                                               NaN   \n...                                                                  ...   \n2022-07-29    25108471                                      4.830300e+03   \n              25108573                                      3.896300e+04   \n              25877861                                               NaN   \n              25892842                                      9.529000e+04   \n              25892918                                      5.383000e+04   \n\ndesc_creaing                VENTAS C/DTO CUOTAS FINANC. OTORG.            \nfecha_de_pago cod_comercio                                                \n2022-07-01    4547438                                        2267249.645  \n              14935528                                          2499.000  \n              14935556                                          9497.000  \n              14935569                                         23795.000  \n              15537297                                        149175.620  \n...                                                                  ...  \n2022-07-29    25108471                                        172613.900  \n              25108573                                        177379.000  \n              25877861                                          6338.200  \n              25892842                                        554659.730  \n              25892918                                        215211.040  \n\n[1689 rows x 39 columns]",
      "text/html": "<div>\n<style scoped>\n    .dataframe tbody tr th:only-of-type {\n        vertical-align: middle;\n    }\n\n    .dataframe tbody tr th {\n        vertical-align: top;\n    }\n\n    .dataframe thead th {\n        text-align: right;\n    }\n</style>\n<table border=\"1\" class=\"dataframe\">\n  <thead>\n    <tr style=\"text-align: right;\">\n      <th></th>\n      <th>desc_creaing</th>\n      <th>PERCEPCION IVA R.G. 2408   3,00 %</th>\n      <th>AJUSTE SIRTAC JUL. 1RA QUINC</th>\n      <th>AJUSTE SIRTAC JUNIO 2DA QUINC</th>\n      <th>ARANCEL</th>\n      <th>CARGO  SISTEMA CUOTAS MENS</th>\n      <th>CARGO LIQUIDACION ELECTR.</th>\n      <th>CARGO POSNET  FIRSTDATA.COM.AR</th>\n      <th>CARGOS DE ENTIDAD</th>\n      <th>CRED FISCAL AHORA 12/18 VTA EN CUOTAS 10,50%</th>\n      <th>CRED FISCAL AHORA 12/18 VTA EN CUOTAS 21,00%</th>\n      <th>...</th>\n      <th>RETENCION ING.BRUTOS</th>\n      <th>RETENCION ING.BRUTOS SIRTAC</th>\n      <th>RETENCION IVA</th>\n      <th>SERVICIO OPER. INTERNAC.</th>\n      <th>SUBTOTAL NETO DE PAGOS</th>\n      <th>TOTAL DEDUCCIONES</th>\n      <th>TOTAL LIQUIDACION</th>\n      <th>TOTAL PAGOS DE COMERCIOS</th>\n      <th>VENTAS C/DESCUENTO CONTADO</th>\n      <th>VENTAS C/DTO CUOTAS FINANC. OTORG.</th>\n    </tr>\n    <tr>\n      <th>fecha_de_pago</th>\n      <th>cod_comercio</th>\n      <th></th>\n      <th></th>\n      <th></th>\n      <th></th>\n      <th></th>\n      <th></th>\n      <th></th>\n      <th></th>\n      <th></th>\n      <th></th>\n      <th></th>\n      <th></th>\n      <th></th>\n      <th></th>\n      <th></th>\n      <th></th>\n      <th></th>\n      <th></th>\n      <th></th>\n      <th></th>\n      <th></th>\n    </tr>\n  </thead>\n  <tbody>\n    <tr>\n      <th rowspan=\"5\" valign=\"top\">2022-07-01</th>\n      <th>4547438</th>\n      <td>1172.543333</td>\n      <td>NaN</td>\n      <td>NaN</td>\n      <td>27239.148</td>\n      <td>NaN</td>\n      <td>NaN</td>\n      <td>NaN</td>\n      <td>NaN</td>\n      <td>21828.430</td>\n      <td>NaN</td>\n      <td>...</td>\n      <td>36087.390</td>\n      <td>16976.078</td>\n      <td>37162.576</td>\n      <td>NaN</td>\n      <td>1737985.760</td>\n      <td>190399.028</td>\n      <td>1737985.760</td>\n      <td>NaN</td>\n      <td>1.276856e+06</td>\n      <td>2267249.645</td>\n    </tr>\n    <tr>\n      <th>14935528</th>\n      <td>NaN</td>\n      <td>NaN</td>\n      <td>NaN</td>\n      <td>44.980</td>\n      <td>NaN</td>\n      <td>NaN</td>\n      <td>NaN</td>\n      <td>NaN</td>\n      <td>10.653</td>\n      <td>NaN</td>\n      <td>...</td>\n      <td>45.640</td>\n      <td>24.990</td>\n      <td>70.580</td>\n      <td>NaN</td>\n      <td>2191.250</td>\n      <td>307.750</td>\n      <td>2191.250</td>\n      <td>NaN</td>\n      <td>NaN</td>\n      <td>2499.000</td>\n    </tr>\n    <tr>\n      <th>14935556</th>\n      <td>NaN</td>\n      <td>NaN</td>\n      <td>NaN</td>\n      <td>170.950</td>\n      <td>NaN</td>\n      <td>NaN</td>\n      <td>NaN</td>\n      <td>NaN</td>\n      <td>40.485</td>\n      <td>NaN</td>\n      <td>...</td>\n      <td>NaN</td>\n      <td>94.970</td>\n      <td>268.210</td>\n      <td>NaN</td>\n      <td>8500.900</td>\n      <td>996.100</td>\n      <td>8500.900</td>\n      <td>NaN</td>\n      <td>NaN</td>\n      <td>9497.000</td>\n    </tr>\n    <tr>\n      <th>14935569</th>\n      <td>NaN</td>\n      <td>NaN</td>\n      <td>NaN</td>\n      <td>428.310</td>\n      <td>NaN</td>\n      <td>NaN</td>\n      <td>NaN</td>\n      <td>NaN</td>\n      <td>101.438</td>\n      <td>NaN</td>\n      <td>...</td>\n      <td>NaN</td>\n      <td>237.950</td>\n      <td>672.020</td>\n      <td>NaN</td>\n      <td>21075.240</td>\n      <td>2719.760</td>\n      <td>21075.240</td>\n      <td>NaN</td>\n      <td>NaN</td>\n      <td>23795.000</td>\n    </tr>\n    <tr>\n      <th>15537297</th>\n      <td>80.550000</td>\n      <td>NaN</td>\n      <td>NaN</td>\n      <td>2685.160</td>\n      <td>NaN</td>\n      <td>NaN</td>\n      <td>NaN</td>\n      <td>NaN</td>\n      <td>703.068</td>\n      <td>NaN</td>\n      <td>...</td>\n      <td>NaN</td>\n      <td>1491.760</td>\n      <td>4193.840</td>\n      <td>NaN</td>\n      <td>131363.520</td>\n      <td>17812.100</td>\n      <td>131363.520</td>\n      <td>NaN</td>\n      <td>NaN</td>\n      <td>149175.620</td>\n    </tr>\n    <tr>\n      <th>...</th>\n      <th>...</th>\n      <td>...</td>\n      <td>...</td>\n      <td>...</td>\n      <td>...</td>\n      <td>...</td>\n      <td>...</td>\n      <td>...</td>\n      <td>...</td>\n      <td>...</td>\n      <td>...</td>\n      <td>...</td>\n      <td>...</td>\n      <td>...</td>\n      <td>...</td>\n      <td>...</td>\n      <td>...</td>\n      <td>...</td>\n      <td>...</td>\n      <td>...</td>\n      <td>...</td>\n      <td>...</td>\n    </tr>\n    <tr>\n      <th rowspan=\"5\" valign=\"top\">2022-07-29</th>\n      <th>25108471</th>\n      <td>94.320000</td>\n      <td>NaN</td>\n      <td>NaN</td>\n      <td>1602.325</td>\n      <td>NaN</td>\n      <td>NaN</td>\n      <td>NaN</td>\n      <td>NaN</td>\n      <td>926.160</td>\n      <td>NaN</td>\n      <td>...</td>\n      <td>NaN</td>\n      <td>637.960</td>\n      <td>4880.370</td>\n      <td>NaN</td>\n      <td>80386.370</td>\n      <td>10750.880</td>\n      <td>80386.370</td>\n      <td>NaN</td>\n      <td>4.830300e+03</td>\n      <td>172613.900</td>\n    </tr>\n    <tr>\n      <th>25108573</th>\n      <td>96.970000</td>\n      <td>NaN</td>\n      <td>NaN</td>\n      <td>1919.290</td>\n      <td>NaN</td>\n      <td>NaN</td>\n      <td>NaN</td>\n      <td>NaN</td>\n      <td>951.727</td>\n      <td>NaN</td>\n      <td>...</td>\n      <td>2357.095</td>\n      <td>893.570</td>\n      <td>5019.620</td>\n      <td>NaN</td>\n      <td>113618.635</td>\n      <td>14033.865</td>\n      <td>113618.635</td>\n      <td>NaN</td>\n      <td>3.896300e+04</td>\n      <td>177379.000</td>\n    </tr>\n    <tr>\n      <th>25877861</th>\n      <td>NaN</td>\n      <td>NaN</td>\n      <td>NaN</td>\n      <td>114.090</td>\n      <td>NaN</td>\n      <td>NaN</td>\n      <td>NaN</td>\n      <td>NaN</td>\n      <td>34.007</td>\n      <td>NaN</td>\n      <td>...</td>\n      <td>118.000</td>\n      <td>44.370</td>\n      <td>NaN</td>\n      <td>NaN</td>\n      <td>5675.950</td>\n      <td>662.250</td>\n      <td>5675.950</td>\n      <td>NaN</td>\n      <td>NaN</td>\n      <td>6338.200</td>\n    </tr>\n    <tr>\n      <th>25892842</th>\n      <td>313.880000</td>\n      <td>NaN</td>\n      <td>NaN</td>\n      <td>5887.190</td>\n      <td>NaN</td>\n      <td>NaN</td>\n      <td>NaN</td>\n      <td>NaN</td>\n      <td>3338.294</td>\n      <td>NaN</td>\n      <td>...</td>\n      <td>NaN</td>\n      <td>2608.340</td>\n      <td>16170.140</td>\n      <td>NaN</td>\n      <td>334385.205</td>\n      <td>38234.660</td>\n      <td>334385.205</td>\n      <td>NaN</td>\n      <td>9.529000e+04</td>\n      <td>554659.730</td>\n    </tr>\n    <tr>\n      <th>25892918</th>\n      <td>120.940000</td>\n      <td>NaN</td>\n      <td>NaN</td>\n      <td>2411.625</td>\n      <td>NaN</td>\n      <td>NaN</td>\n      <td>NaN</td>\n      <td>NaN</td>\n      <td>1268.384</td>\n      <td>NaN</td>\n      <td>...</td>\n      <td>NaN</td>\n      <td>1130.050</td>\n      <td>6237.740</td>\n      <td>NaN</td>\n      <td>146494.320</td>\n      <td>14941.200</td>\n      <td>146494.320</td>\n      <td>NaN</td>\n      <td>5.383000e+04</td>\n      <td>215211.040</td>\n    </tr>\n  </tbody>\n</table>\n<p>1689 rows × 39 columns</p>\n</div>"
     },
     "execution_count": 235,
     "metadata": {},
     "output_type": "execute_result"
    }
   ],
   "source": [
    "pivot_desc = pd.pivot_table(tarjetas,values = 'importe_concepto',index=[\"fecha_de_pago\",\"cod_comercio\"],columns = \"desc_creaing\")\n",
    "pivot_desc"
   ],
   "metadata": {
    "collapsed": false,
    "pycharm": {
     "name": "#%%\n"
    }
   }
  },
  {
   "cell_type": "markdown",
   "source": [
    "### 11- Quedarse solo con tarjeta visa. Crear una columna que sume 'VENTAS C/DESCUENTO CONTADO' con\n",
    "                                'VENTAS C/DTO CUOTAS FINANC. OTORG.'"
   ],
   "metadata": {
    "id": "qYonU-BsZIiX",
    "pycharm": {
     "name": "#%% md\n"
    }
   }
  },
  {
   "cell_type": "code",
   "execution_count": 236,
   "outputs": [
    {
     "data": {
      "text/plain": "desc_creaing                PERCEPCION IVA R.G. 2408   3,00 %  \\\nfecha_de_pago cod_comercio                                      \n2022-07-01    25098024                                205.285   \n              25107096                                 96.930   \n              25107105                                186.320   \n              25107118                                227.910   \n              25107120                                141.020   \n...                                                       ...   \n2022-07-29    25108471                                 94.320   \n              25108573                                 96.970   \n              25877861                                    NaN   \n              25892842                                313.880   \n              25892918                                120.940   \n\ndesc_creaing                AJUSTE SIRTAC JUL. 1RA QUINC  \\\nfecha_de_pago cod_comercio                                 \n2022-07-01    25098024                               NaN   \n              25107096                               NaN   \n              25107105                               NaN   \n              25107118                               NaN   \n              25107120                               NaN   \n...                                                  ...   \n2022-07-29    25108471                               NaN   \n              25108573                               NaN   \n              25877861                               NaN   \n              25892842                               NaN   \n              25892918                               NaN   \n\ndesc_creaing                AJUSTE SIRTAC JUNIO 2DA QUINC      ARANCEL  \\\nfecha_de_pago cod_comercio                                               \n2022-07-01    25098024                                NaN  4629.633333   \n              25107096                                NaN  1253.893333   \n              25107105                                NaN  3712.880000   \n              25107118                                NaN  4466.230000   \n              25107120                                NaN  2076.206667   \n...                                                   ...          ...   \n2022-07-29    25108471                                NaN  1602.325000   \n              25108573                                NaN  1919.290000   \n              25877861                                NaN   114.090000   \n              25892842                                NaN  5887.190000   \n              25892918                                NaN  2411.625000   \n\ndesc_creaing                CARGOS DE ENTIDAD  \\\nfecha_de_pago cod_comercio                      \n2022-07-01    25098024                    NaN   \n              25107096                    NaN   \n              25107105                    NaN   \n              25107118                    NaN   \n              25107120                    NaN   \n...                                       ...   \n2022-07-29    25108471                    NaN   \n              25108573                    NaN   \n              25877861                    NaN   \n              25892842                    NaN   \n              25892918                    NaN   \n\ndesc_creaing                CRED FISCAL AHORA 12/18 VTA EN CUOTAS 10,50%  \\\nfecha_de_pago cod_comercio                                                 \n2022-07-01    25098024                                          2721.195   \n              25107096                                           699.833   \n              25107105                                          1433.009   \n              25107118                                          2139.872   \n              25107120                                          1106.435   \n...                                                                  ...   \n2022-07-29    25108471                                           926.160   \n              25108573                                           951.727   \n              25877861                                            34.007   \n              25892842                                          3338.294   \n              25892918                                          1268.384   \n\ndesc_creaing                CRED. FISCAL PAG.S/DTO.FIN.OTORG 21,00%  \\\nfecha_de_pago cod_comercio                                            \n2022-07-01    25098024                                       277.02   \n              25107096                                          NaN   \n              25107105                                          NaN   \n              25107118                                          NaN   \n              25107120                                          NaN   \n...                                                             ...   \n2022-07-29    25108471                                          NaN   \n              25108573                                          NaN   \n              25877861                                          NaN   \n              25892842                                          NaN   \n              25892918                                          NaN   \n\ndesc_creaing                CRED.FISC.LEY 25063 PAG.S/DTO.F.OTORG. 10,50  \\\nfecha_de_pago cod_comercio                                                 \n2022-07-01    25098024                                               NaN   \n              25107096                                               NaN   \n              25107105                                               NaN   \n              25107118                                               NaN   \n              25107120                                             80.32   \n...                                                                  ...   \n2022-07-29    25108471                                               NaN   \n              25108573                                               NaN   \n              25877861                                               NaN   \n              25892842                                               NaN   \n              25892918                                               NaN   \n\ndesc_creaing                DESCUENTO FINANC.OTORG. CUOTAS  \\\nfecha_de_pago cod_comercio                                   \n2022-07-01    25098024                             1319.12   \n              25107096                                 NaN   \n              25107105                                 NaN   \n              25107118                                 NaN   \n              25107120                              764.98   \n...                                                    ...   \n2022-07-29    25108471                                 NaN   \n              25108573                                 NaN   \n              25877861                                 NaN   \n              25892842                                 NaN   \n              25892918                                 NaN   \n\ndesc_creaing                IMPORTE NETO DE PAGOS  ...  \\\nfecha_de_pago cod_comercio                         ...   \n2022-07-01    25098024              272074.586667  ...   \n              25107096               70725.400000  ...   \n              25107105              221953.610000  ...   \n              25107118              260580.340000  ...   \n              25107120              136009.133333  ...   \n...                                           ...  ...   \n2022-07-29    25108471               80386.370000  ...   \n              25108573              113618.635000  ...   \n              25877861                5675.950000  ...   \n              25892842              334385.205000  ...   \n              25892918              146494.320000  ...   \n\ndesc_creaing                RETENCION IMP.GANANCIAS  RETENCION ING.BRUTOS  \\\nfecha_de_pago cod_comercio                                                  \n2022-07-01    25098024                     2492.550          11192.493333   \n              25107096                      980.175           1470.950000   \n              25107105                     2002.610           4613.535000   \n              25107118                     2384.475           5423.740000   \n              25107120                     1666.235                   NaN   \n...                                             ...                   ...   \n2022-07-29    25108471                     1626.790                   NaN   \n              25108573                     1673.210           2357.095000   \n              25877861                          NaN            118.000000   \n              25892842                     5390.050                   NaN   \n              25892918                     2079.250                   NaN   \n\ndesc_creaing                RETENCION ING.BRUTOS SIRTAC  RETENCION IVA  \\\nfecha_de_pago cod_comercio                                               \n2022-07-01    25098024                      2807.633333    6518.843333   \n              25107096                       736.156667    1841.296667   \n              25107105                      2256.845000    5254.375000   \n              25107118                      2694.825000    6324.455000   \n              25107120                      1296.796667    2807.823333   \n...                                                 ...            ...   \n2022-07-29    25108471                       637.960000    4880.370000   \n              25108573                       893.570000    5019.620000   \n              25877861                        44.370000            NaN   \n              25892842                      2608.340000   16170.140000   \n              25892918                      1130.050000    6237.740000   \n\ndesc_creaing                SUBTOTAL NETO DE PAGOS  TOTAL DEDUCCIONES  \\\nfecha_de_pago cod_comercio                                              \n2022-07-01    25098024               272074.586667       38828.060000   \n              25107096                70725.400000        8792.363333   \n              25107105               221953.610000       26516.890000   \n              25107118               260580.340000       33971.790000   \n              25107120               136009.133333       11937.733333   \n...                                            ...                ...   \n2022-07-29    25108471                80386.370000       10750.880000   \n              25108573               113618.635000       14033.865000   \n              25877861                 5675.950000         662.250000   \n              25892842               334385.205000       38234.660000   \n              25892918               146494.320000       14941.200000   \n\ndesc_creaing                TOTAL LIQUIDACION  VENTAS C/DESCUENTO CONTADO  \\\nfecha_de_pago cod_comercio                                                  \n2022-07-01    25098024          272074.586667               156550.000000   \n              25107096           70725.400000                27038.633333   \n              25107105          221953.610000                94847.000000   \n              25107118          260580.340000                90413.500000   \n              25107120          136009.133333                93767.850000   \n...                                       ...                         ...   \n2022-07-29    25108471           80386.370000                 4830.300000   \n              25108573          113618.635000                38963.000000   \n              25877861            5675.950000                         NaN   \n              25892842          334385.205000                95290.000000   \n              25892918          146494.320000                53830.000000   \n\ndesc_creaing                VENTAS C/DTO CUOTAS FINANC. OTORG.    suma_ventas  \nfecha_de_pago cod_comercio                                                     \n2022-07-01    25098024                               309803.97  466353.970000  \n              25107096                               157437.39  184476.023333  \n              25107105                               307247.00  402094.000000  \n              25107118                               408277.26  498690.760000  \n              25107120                               128152.45  221920.300000  \n...                                                        ...            ...  \n2022-07-29    25108471                               172613.90  177444.200000  \n              25108573                               177379.00  216342.000000  \n              25877861                                 6338.20            NaN  \n              25892842                               554659.73  649949.730000  \n              25892918                               215211.04  269041.040000  \n\n[1183 rows x 30 columns]",
      "text/html": "<div>\n<style scoped>\n    .dataframe tbody tr th:only-of-type {\n        vertical-align: middle;\n    }\n\n    .dataframe tbody tr th {\n        vertical-align: top;\n    }\n\n    .dataframe thead th {\n        text-align: right;\n    }\n</style>\n<table border=\"1\" class=\"dataframe\">\n  <thead>\n    <tr style=\"text-align: right;\">\n      <th></th>\n      <th>desc_creaing</th>\n      <th>PERCEPCION IVA R.G. 2408   3,00 %</th>\n      <th>AJUSTE SIRTAC JUL. 1RA QUINC</th>\n      <th>AJUSTE SIRTAC JUNIO 2DA QUINC</th>\n      <th>ARANCEL</th>\n      <th>CARGOS DE ENTIDAD</th>\n      <th>CRED FISCAL AHORA 12/18 VTA EN CUOTAS 10,50%</th>\n      <th>CRED. FISCAL PAG.S/DTO.FIN.OTORG 21,00%</th>\n      <th>CRED.FISC.LEY 25063 PAG.S/DTO.F.OTORG. 10,50</th>\n      <th>DESCUENTO FINANC.OTORG. CUOTAS</th>\n      <th>IMPORTE NETO DE PAGOS</th>\n      <th>...</th>\n      <th>RETENCION IMP.GANANCIAS</th>\n      <th>RETENCION ING.BRUTOS</th>\n      <th>RETENCION ING.BRUTOS SIRTAC</th>\n      <th>RETENCION IVA</th>\n      <th>SUBTOTAL NETO DE PAGOS</th>\n      <th>TOTAL DEDUCCIONES</th>\n      <th>TOTAL LIQUIDACION</th>\n      <th>VENTAS C/DESCUENTO CONTADO</th>\n      <th>VENTAS C/DTO CUOTAS FINANC. OTORG.</th>\n      <th>suma_ventas</th>\n    </tr>\n    <tr>\n      <th>fecha_de_pago</th>\n      <th>cod_comercio</th>\n      <th></th>\n      <th></th>\n      <th></th>\n      <th></th>\n      <th></th>\n      <th></th>\n      <th></th>\n      <th></th>\n      <th></th>\n      <th></th>\n      <th></th>\n      <th></th>\n      <th></th>\n      <th></th>\n      <th></th>\n      <th></th>\n      <th></th>\n      <th></th>\n      <th></th>\n      <th></th>\n      <th></th>\n    </tr>\n  </thead>\n  <tbody>\n    <tr>\n      <th rowspan=\"5\" valign=\"top\">2022-07-01</th>\n      <th>25098024</th>\n      <td>205.285</td>\n      <td>NaN</td>\n      <td>NaN</td>\n      <td>4629.633333</td>\n      <td>NaN</td>\n      <td>2721.195</td>\n      <td>277.02</td>\n      <td>NaN</td>\n      <td>1319.12</td>\n      <td>272074.586667</td>\n      <td>...</td>\n      <td>2492.550</td>\n      <td>11192.493333</td>\n      <td>2807.633333</td>\n      <td>6518.843333</td>\n      <td>272074.586667</td>\n      <td>38828.060000</td>\n      <td>272074.586667</td>\n      <td>156550.000000</td>\n      <td>309803.97</td>\n      <td>466353.970000</td>\n    </tr>\n    <tr>\n      <th>25107096</th>\n      <td>96.930</td>\n      <td>NaN</td>\n      <td>NaN</td>\n      <td>1253.893333</td>\n      <td>NaN</td>\n      <td>699.833</td>\n      <td>NaN</td>\n      <td>NaN</td>\n      <td>NaN</td>\n      <td>70725.400000</td>\n      <td>...</td>\n      <td>980.175</td>\n      <td>1470.950000</td>\n      <td>736.156667</td>\n      <td>1841.296667</td>\n      <td>70725.400000</td>\n      <td>8792.363333</td>\n      <td>70725.400000</td>\n      <td>27038.633333</td>\n      <td>157437.39</td>\n      <td>184476.023333</td>\n    </tr>\n    <tr>\n      <th>25107105</th>\n      <td>186.320</td>\n      <td>NaN</td>\n      <td>NaN</td>\n      <td>3712.880000</td>\n      <td>NaN</td>\n      <td>1433.009</td>\n      <td>NaN</td>\n      <td>NaN</td>\n      <td>NaN</td>\n      <td>221953.610000</td>\n      <td>...</td>\n      <td>2002.610</td>\n      <td>4613.535000</td>\n      <td>2256.845000</td>\n      <td>5254.375000</td>\n      <td>221953.610000</td>\n      <td>26516.890000</td>\n      <td>221953.610000</td>\n      <td>94847.000000</td>\n      <td>307247.00</td>\n      <td>402094.000000</td>\n    </tr>\n    <tr>\n      <th>25107118</th>\n      <td>227.910</td>\n      <td>NaN</td>\n      <td>NaN</td>\n      <td>4466.230000</td>\n      <td>NaN</td>\n      <td>2139.872</td>\n      <td>NaN</td>\n      <td>NaN</td>\n      <td>NaN</td>\n      <td>260580.340000</td>\n      <td>...</td>\n      <td>2384.475</td>\n      <td>5423.740000</td>\n      <td>2694.825000</td>\n      <td>6324.455000</td>\n      <td>260580.340000</td>\n      <td>33971.790000</td>\n      <td>260580.340000</td>\n      <td>90413.500000</td>\n      <td>408277.26</td>\n      <td>498690.760000</td>\n    </tr>\n    <tr>\n      <th>25107120</th>\n      <td>141.020</td>\n      <td>NaN</td>\n      <td>NaN</td>\n      <td>2076.206667</td>\n      <td>NaN</td>\n      <td>1106.435</td>\n      <td>NaN</td>\n      <td>80.32</td>\n      <td>764.98</td>\n      <td>136009.133333</td>\n      <td>...</td>\n      <td>1666.235</td>\n      <td>NaN</td>\n      <td>1296.796667</td>\n      <td>2807.823333</td>\n      <td>136009.133333</td>\n      <td>11937.733333</td>\n      <td>136009.133333</td>\n      <td>93767.850000</td>\n      <td>128152.45</td>\n      <td>221920.300000</td>\n    </tr>\n    <tr>\n      <th>...</th>\n      <th>...</th>\n      <td>...</td>\n      <td>...</td>\n      <td>...</td>\n      <td>...</td>\n      <td>...</td>\n      <td>...</td>\n      <td>...</td>\n      <td>...</td>\n      <td>...</td>\n      <td>...</td>\n      <td>...</td>\n      <td>...</td>\n      <td>...</td>\n      <td>...</td>\n      <td>...</td>\n      <td>...</td>\n      <td>...</td>\n      <td>...</td>\n      <td>...</td>\n      <td>...</td>\n      <td>...</td>\n    </tr>\n    <tr>\n      <th rowspan=\"5\" valign=\"top\">2022-07-29</th>\n      <th>25108471</th>\n      <td>94.320</td>\n      <td>NaN</td>\n      <td>NaN</td>\n      <td>1602.325000</td>\n      <td>NaN</td>\n      <td>926.160</td>\n      <td>NaN</td>\n      <td>NaN</td>\n      <td>NaN</td>\n      <td>80386.370000</td>\n      <td>...</td>\n      <td>1626.790</td>\n      <td>NaN</td>\n      <td>637.960000</td>\n      <td>4880.370000</td>\n      <td>80386.370000</td>\n      <td>10750.880000</td>\n      <td>80386.370000</td>\n      <td>4830.300000</td>\n      <td>172613.90</td>\n      <td>177444.200000</td>\n    </tr>\n    <tr>\n      <th>25108573</th>\n      <td>96.970</td>\n      <td>NaN</td>\n      <td>NaN</td>\n      <td>1919.290000</td>\n      <td>NaN</td>\n      <td>951.727</td>\n      <td>NaN</td>\n      <td>NaN</td>\n      <td>NaN</td>\n      <td>113618.635000</td>\n      <td>...</td>\n      <td>1673.210</td>\n      <td>2357.095000</td>\n      <td>893.570000</td>\n      <td>5019.620000</td>\n      <td>113618.635000</td>\n      <td>14033.865000</td>\n      <td>113618.635000</td>\n      <td>38963.000000</td>\n      <td>177379.00</td>\n      <td>216342.000000</td>\n    </tr>\n    <tr>\n      <th>25877861</th>\n      <td>NaN</td>\n      <td>NaN</td>\n      <td>NaN</td>\n      <td>114.090000</td>\n      <td>NaN</td>\n      <td>34.007</td>\n      <td>NaN</td>\n      <td>NaN</td>\n      <td>NaN</td>\n      <td>5675.950000</td>\n      <td>...</td>\n      <td>NaN</td>\n      <td>118.000000</td>\n      <td>44.370000</td>\n      <td>NaN</td>\n      <td>5675.950000</td>\n      <td>662.250000</td>\n      <td>5675.950000</td>\n      <td>NaN</td>\n      <td>6338.20</td>\n      <td>NaN</td>\n    </tr>\n    <tr>\n      <th>25892842</th>\n      <td>313.880</td>\n      <td>NaN</td>\n      <td>NaN</td>\n      <td>5887.190000</td>\n      <td>NaN</td>\n      <td>3338.294</td>\n      <td>NaN</td>\n      <td>NaN</td>\n      <td>NaN</td>\n      <td>334385.205000</td>\n      <td>...</td>\n      <td>5390.050</td>\n      <td>NaN</td>\n      <td>2608.340000</td>\n      <td>16170.140000</td>\n      <td>334385.205000</td>\n      <td>38234.660000</td>\n      <td>334385.205000</td>\n      <td>95290.000000</td>\n      <td>554659.73</td>\n      <td>649949.730000</td>\n    </tr>\n    <tr>\n      <th>25892918</th>\n      <td>120.940</td>\n      <td>NaN</td>\n      <td>NaN</td>\n      <td>2411.625000</td>\n      <td>NaN</td>\n      <td>1268.384</td>\n      <td>NaN</td>\n      <td>NaN</td>\n      <td>NaN</td>\n      <td>146494.320000</td>\n      <td>...</td>\n      <td>2079.250</td>\n      <td>NaN</td>\n      <td>1130.050000</td>\n      <td>6237.740000</td>\n      <td>146494.320000</td>\n      <td>14941.200000</td>\n      <td>146494.320000</td>\n      <td>53830.000000</td>\n      <td>215211.04</td>\n      <td>269041.040000</td>\n    </tr>\n  </tbody>\n</table>\n<p>1183 rows × 30 columns</p>\n</div>"
     },
     "execution_count": 236,
     "metadata": {},
     "output_type": "execute_result"
    }
   ],
   "source": [
    "tarjetas_visa = tarjetas[tarjetas[\"cod_marca_producto\"].str.contains(\"VISA\")]\n",
    "pivot_visa = pd.pivot_table(tarjetas_visa,values = \"importe_concepto\",index=[\"fecha_de_pago\",\"cod_comercio\"],columns=\"desc_creaing\")\n",
    "pivot_visa.columns = pivot_visa.columns.str.strip()\n",
    "pivot_visa\n",
    "pivot_visa[\"suma_ventas\"] = pivot_visa[\"VENTAS C/DESCUENTO CONTADO\"]+ pivot_visa[\"VENTAS C/DTO CUOTAS FINANC. OTORG.\"]\n",
    "pivot_visa"
   ],
   "metadata": {
    "collapsed": false,
    "pycharm": {
     "name": "#%%\n"
    }
   }
  },
  {
   "cell_type": "markdown",
   "source": [
    "### 12- Quedarse solo con la tarjeta mastercard y crear una columna que sea la suma de 'PERCEPCION IVA R.G. 2408   1,50 %' y  'PERCEPCION IVA R.G. 2408   3,00 %'"
   ],
   "metadata": {
    "collapsed": false
   }
  },
  {
   "cell_type": "code",
   "execution_count": 241,
   "outputs": [],
   "source": [
    "tarjetas_mastercard = tarjetas[tarjetas[\"cod_marca_producto\"].str.contains(\"MASTERCARD\")]\n",
    "pivot_mastercard = pd.pivot_table(tarjetas_visa,values = \"importe_concepto\", index=[\"fecha_de_pago\", \"cod_comercio\"], columns=\"desc_creaing\")"
   ],
   "metadata": {
    "collapsed": false,
    "pycharm": {
     "name": "#%%\n"
    }
   }
  },
  {
   "cell_type": "code",
   "execution_count": 242,
   "outputs": [],
   "source": [
    "pivot_mastercard.columns = pivot_mastercard.columns.str.strip()"
   ],
   "metadata": {
    "collapsed": false,
    "pycharm": {
     "name": "#%%\n"
    }
   }
  },
  {
   "cell_type": "code",
   "execution_count": 243,
   "outputs": [
    {
     "data": {
      "text/plain": "desc_creaing                PERCEPCION IVA R.G. 2408   3,00 %  \\\nfecha_de_pago cod_comercio                                      \n2022-07-01    25098024                                205.285   \n              25107096                                 96.930   \n              25107105                                186.320   \n              25107118                                227.910   \n              25107120                                141.020   \n...                                                       ...   \n2022-07-29    25108471                                 94.320   \n              25108573                                 96.970   \n              25877861                                    NaN   \n              25892842                                313.880   \n              25892918                                120.940   \n\ndesc_creaing                AJUSTE SIRTAC JUL. 1RA QUINC  \\\nfecha_de_pago cod_comercio                                 \n2022-07-01    25098024                               NaN   \n              25107096                               NaN   \n              25107105                               NaN   \n              25107118                               NaN   \n              25107120                               NaN   \n...                                                  ...   \n2022-07-29    25108471                               NaN   \n              25108573                               NaN   \n              25877861                               NaN   \n              25892842                               NaN   \n              25892918                               NaN   \n\ndesc_creaing                AJUSTE SIRTAC JUNIO 2DA QUINC      ARANCEL  \\\nfecha_de_pago cod_comercio                                               \n2022-07-01    25098024                                NaN  4629.633333   \n              25107096                                NaN  1253.893333   \n              25107105                                NaN  3712.880000   \n              25107118                                NaN  4466.230000   \n              25107120                                NaN  2076.206667   \n...                                                   ...          ...   \n2022-07-29    25108471                                NaN  1602.325000   \n              25108573                                NaN  1919.290000   \n              25877861                                NaN   114.090000   \n              25892842                                NaN  5887.190000   \n              25892918                                NaN  2411.625000   \n\ndesc_creaing                CARGOS DE ENTIDAD  \\\nfecha_de_pago cod_comercio                      \n2022-07-01    25098024                    NaN   \n              25107096                    NaN   \n              25107105                    NaN   \n              25107118                    NaN   \n              25107120                    NaN   \n...                                       ...   \n2022-07-29    25108471                    NaN   \n              25108573                    NaN   \n              25877861                    NaN   \n              25892842                    NaN   \n              25892918                    NaN   \n\ndesc_creaing                CRED FISCAL AHORA 12/18 VTA EN CUOTAS 10,50%  \\\nfecha_de_pago cod_comercio                                                 \n2022-07-01    25098024                                          2721.195   \n              25107096                                           699.833   \n              25107105                                          1433.009   \n              25107118                                          2139.872   \n              25107120                                          1106.435   \n...                                                                  ...   \n2022-07-29    25108471                                           926.160   \n              25108573                                           951.727   \n              25877861                                            34.007   \n              25892842                                          3338.294   \n              25892918                                          1268.384   \n\ndesc_creaing                CRED. FISCAL PAG.S/DTO.FIN.OTORG 21,00%  \\\nfecha_de_pago cod_comercio                                            \n2022-07-01    25098024                                       277.02   \n              25107096                                          NaN   \n              25107105                                          NaN   \n              25107118                                          NaN   \n              25107120                                          NaN   \n...                                                             ...   \n2022-07-29    25108471                                          NaN   \n              25108573                                          NaN   \n              25877861                                          NaN   \n              25892842                                          NaN   \n              25892918                                          NaN   \n\ndesc_creaing                CRED.FISC.LEY 25063 PAG.S/DTO.F.OTORG. 10,50  \\\nfecha_de_pago cod_comercio                                                 \n2022-07-01    25098024                                               NaN   \n              25107096                                               NaN   \n              25107105                                               NaN   \n              25107118                                               NaN   \n              25107120                                             80.32   \n...                                                                  ...   \n2022-07-29    25108471                                               NaN   \n              25108573                                               NaN   \n              25877861                                               NaN   \n              25892842                                               NaN   \n              25892918                                               NaN   \n\ndesc_creaing                DESCUENTO FINANC.OTORG. CUOTAS  \\\nfecha_de_pago cod_comercio                                   \n2022-07-01    25098024                             1319.12   \n              25107096                                 NaN   \n              25107105                                 NaN   \n              25107118                                 NaN   \n              25107120                              764.98   \n...                                                    ...   \n2022-07-29    25108471                                 NaN   \n              25108573                                 NaN   \n              25877861                                 NaN   \n              25892842                                 NaN   \n              25892918                                 NaN   \n\ndesc_creaing                IMPORTE NETO DE PAGOS  ...  REEMBOLSOS DE ENTIDAD  \\\nfecha_de_pago cod_comercio                         ...                          \n2022-07-01    25098024              272074.586667  ...                    NaN   \n              25107096               70725.400000  ...                    NaN   \n              25107105              221953.610000  ...                    NaN   \n              25107118              260580.340000  ...                    NaN   \n              25107120              136009.133333  ...                    NaN   \n...                                           ...  ...                    ...   \n2022-07-29    25108471               80386.370000  ...                    NaN   \n              25108573              113618.635000  ...                    NaN   \n              25877861                5675.950000  ...                    NaN   \n              25892842              334385.205000  ...                    NaN   \n              25892918              146494.320000  ...                    NaN   \n\ndesc_creaing                RETENCION IMP.GANANCIAS  RETENCION ING.BRUTOS  \\\nfecha_de_pago cod_comercio                                                  \n2022-07-01    25098024                     2492.550          11192.493333   \n              25107096                      980.175           1470.950000   \n              25107105                     2002.610           4613.535000   \n              25107118                     2384.475           5423.740000   \n              25107120                     1666.235                   NaN   \n...                                             ...                   ...   \n2022-07-29    25108471                     1626.790                   NaN   \n              25108573                     1673.210           2357.095000   \n              25877861                          NaN            118.000000   \n              25892842                     5390.050                   NaN   \n              25892918                     2079.250                   NaN   \n\ndesc_creaing                RETENCION ING.BRUTOS SIRTAC  RETENCION IVA  \\\nfecha_de_pago cod_comercio                                               \n2022-07-01    25098024                      2807.633333    6518.843333   \n              25107096                       736.156667    1841.296667   \n              25107105                      2256.845000    5254.375000   \n              25107118                      2694.825000    6324.455000   \n              25107120                      1296.796667    2807.823333   \n...                                                 ...            ...   \n2022-07-29    25108471                       637.960000    4880.370000   \n              25108573                       893.570000    5019.620000   \n              25877861                        44.370000            NaN   \n              25892842                      2608.340000   16170.140000   \n              25892918                      1130.050000    6237.740000   \n\ndesc_creaing                SUBTOTAL NETO DE PAGOS  TOTAL DEDUCCIONES  \\\nfecha_de_pago cod_comercio                                              \n2022-07-01    25098024               272074.586667       38828.060000   \n              25107096                70725.400000        8792.363333   \n              25107105               221953.610000       26516.890000   \n              25107118               260580.340000       33971.790000   \n              25107120               136009.133333       11937.733333   \n...                                            ...                ...   \n2022-07-29    25108471                80386.370000       10750.880000   \n              25108573               113618.635000       14033.865000   \n              25877861                 5675.950000         662.250000   \n              25892842               334385.205000       38234.660000   \n              25892918               146494.320000       14941.200000   \n\ndesc_creaing                TOTAL LIQUIDACION  VENTAS C/DESCUENTO CONTADO  \\\nfecha_de_pago cod_comercio                                                  \n2022-07-01    25098024          272074.586667               156550.000000   \n              25107096           70725.400000                27038.633333   \n              25107105          221953.610000                94847.000000   \n              25107118          260580.340000                90413.500000   \n              25107120          136009.133333                93767.850000   \n...                                       ...                         ...   \n2022-07-29    25108471           80386.370000                 4830.300000   \n              25108573          113618.635000                38963.000000   \n              25877861            5675.950000                         NaN   \n              25892842          334385.205000                95290.000000   \n              25892918          146494.320000                53830.000000   \n\ndesc_creaing                VENTAS C/DTO CUOTAS FINANC. OTORG.  \nfecha_de_pago cod_comercio                                      \n2022-07-01    25098024                               309803.97  \n              25107096                               157437.39  \n              25107105                               307247.00  \n              25107118                               408277.26  \n              25107120                               128152.45  \n...                                                        ...  \n2022-07-29    25108471                               172613.90  \n              25108573                               177379.00  \n              25877861                                 6338.20  \n              25892842                               554659.73  \n              25892918                               215211.04  \n\n[1183 rows x 29 columns]",
      "text/html": "<div>\n<style scoped>\n    .dataframe tbody tr th:only-of-type {\n        vertical-align: middle;\n    }\n\n    .dataframe tbody tr th {\n        vertical-align: top;\n    }\n\n    .dataframe thead th {\n        text-align: right;\n    }\n</style>\n<table border=\"1\" class=\"dataframe\">\n  <thead>\n    <tr style=\"text-align: right;\">\n      <th></th>\n      <th>desc_creaing</th>\n      <th>PERCEPCION IVA R.G. 2408   3,00 %</th>\n      <th>AJUSTE SIRTAC JUL. 1RA QUINC</th>\n      <th>AJUSTE SIRTAC JUNIO 2DA QUINC</th>\n      <th>ARANCEL</th>\n      <th>CARGOS DE ENTIDAD</th>\n      <th>CRED FISCAL AHORA 12/18 VTA EN CUOTAS 10,50%</th>\n      <th>CRED. FISCAL PAG.S/DTO.FIN.OTORG 21,00%</th>\n      <th>CRED.FISC.LEY 25063 PAG.S/DTO.F.OTORG. 10,50</th>\n      <th>DESCUENTO FINANC.OTORG. CUOTAS</th>\n      <th>IMPORTE NETO DE PAGOS</th>\n      <th>...</th>\n      <th>REEMBOLSOS DE ENTIDAD</th>\n      <th>RETENCION IMP.GANANCIAS</th>\n      <th>RETENCION ING.BRUTOS</th>\n      <th>RETENCION ING.BRUTOS SIRTAC</th>\n      <th>RETENCION IVA</th>\n      <th>SUBTOTAL NETO DE PAGOS</th>\n      <th>TOTAL DEDUCCIONES</th>\n      <th>TOTAL LIQUIDACION</th>\n      <th>VENTAS C/DESCUENTO CONTADO</th>\n      <th>VENTAS C/DTO CUOTAS FINANC. OTORG.</th>\n    </tr>\n    <tr>\n      <th>fecha_de_pago</th>\n      <th>cod_comercio</th>\n      <th></th>\n      <th></th>\n      <th></th>\n      <th></th>\n      <th></th>\n      <th></th>\n      <th></th>\n      <th></th>\n      <th></th>\n      <th></th>\n      <th></th>\n      <th></th>\n      <th></th>\n      <th></th>\n      <th></th>\n      <th></th>\n      <th></th>\n      <th></th>\n      <th></th>\n      <th></th>\n      <th></th>\n    </tr>\n  </thead>\n  <tbody>\n    <tr>\n      <th rowspan=\"5\" valign=\"top\">2022-07-01</th>\n      <th>25098024</th>\n      <td>205.285</td>\n      <td>NaN</td>\n      <td>NaN</td>\n      <td>4629.633333</td>\n      <td>NaN</td>\n      <td>2721.195</td>\n      <td>277.02</td>\n      <td>NaN</td>\n      <td>1319.12</td>\n      <td>272074.586667</td>\n      <td>...</td>\n      <td>NaN</td>\n      <td>2492.550</td>\n      <td>11192.493333</td>\n      <td>2807.633333</td>\n      <td>6518.843333</td>\n      <td>272074.586667</td>\n      <td>38828.060000</td>\n      <td>272074.586667</td>\n      <td>156550.000000</td>\n      <td>309803.97</td>\n    </tr>\n    <tr>\n      <th>25107096</th>\n      <td>96.930</td>\n      <td>NaN</td>\n      <td>NaN</td>\n      <td>1253.893333</td>\n      <td>NaN</td>\n      <td>699.833</td>\n      <td>NaN</td>\n      <td>NaN</td>\n      <td>NaN</td>\n      <td>70725.400000</td>\n      <td>...</td>\n      <td>NaN</td>\n      <td>980.175</td>\n      <td>1470.950000</td>\n      <td>736.156667</td>\n      <td>1841.296667</td>\n      <td>70725.400000</td>\n      <td>8792.363333</td>\n      <td>70725.400000</td>\n      <td>27038.633333</td>\n      <td>157437.39</td>\n    </tr>\n    <tr>\n      <th>25107105</th>\n      <td>186.320</td>\n      <td>NaN</td>\n      <td>NaN</td>\n      <td>3712.880000</td>\n      <td>NaN</td>\n      <td>1433.009</td>\n      <td>NaN</td>\n      <td>NaN</td>\n      <td>NaN</td>\n      <td>221953.610000</td>\n      <td>...</td>\n      <td>NaN</td>\n      <td>2002.610</td>\n      <td>4613.535000</td>\n      <td>2256.845000</td>\n      <td>5254.375000</td>\n      <td>221953.610000</td>\n      <td>26516.890000</td>\n      <td>221953.610000</td>\n      <td>94847.000000</td>\n      <td>307247.00</td>\n    </tr>\n    <tr>\n      <th>25107118</th>\n      <td>227.910</td>\n      <td>NaN</td>\n      <td>NaN</td>\n      <td>4466.230000</td>\n      <td>NaN</td>\n      <td>2139.872</td>\n      <td>NaN</td>\n      <td>NaN</td>\n      <td>NaN</td>\n      <td>260580.340000</td>\n      <td>...</td>\n      <td>NaN</td>\n      <td>2384.475</td>\n      <td>5423.740000</td>\n      <td>2694.825000</td>\n      <td>6324.455000</td>\n      <td>260580.340000</td>\n      <td>33971.790000</td>\n      <td>260580.340000</td>\n      <td>90413.500000</td>\n      <td>408277.26</td>\n    </tr>\n    <tr>\n      <th>25107120</th>\n      <td>141.020</td>\n      <td>NaN</td>\n      <td>NaN</td>\n      <td>2076.206667</td>\n      <td>NaN</td>\n      <td>1106.435</td>\n      <td>NaN</td>\n      <td>80.32</td>\n      <td>764.98</td>\n      <td>136009.133333</td>\n      <td>...</td>\n      <td>NaN</td>\n      <td>1666.235</td>\n      <td>NaN</td>\n      <td>1296.796667</td>\n      <td>2807.823333</td>\n      <td>136009.133333</td>\n      <td>11937.733333</td>\n      <td>136009.133333</td>\n      <td>93767.850000</td>\n      <td>128152.45</td>\n    </tr>\n    <tr>\n      <th>...</th>\n      <th>...</th>\n      <td>...</td>\n      <td>...</td>\n      <td>...</td>\n      <td>...</td>\n      <td>...</td>\n      <td>...</td>\n      <td>...</td>\n      <td>...</td>\n      <td>...</td>\n      <td>...</td>\n      <td>...</td>\n      <td>...</td>\n      <td>...</td>\n      <td>...</td>\n      <td>...</td>\n      <td>...</td>\n      <td>...</td>\n      <td>...</td>\n      <td>...</td>\n      <td>...</td>\n      <td>...</td>\n    </tr>\n    <tr>\n      <th rowspan=\"5\" valign=\"top\">2022-07-29</th>\n      <th>25108471</th>\n      <td>94.320</td>\n      <td>NaN</td>\n      <td>NaN</td>\n      <td>1602.325000</td>\n      <td>NaN</td>\n      <td>926.160</td>\n      <td>NaN</td>\n      <td>NaN</td>\n      <td>NaN</td>\n      <td>80386.370000</td>\n      <td>...</td>\n      <td>NaN</td>\n      <td>1626.790</td>\n      <td>NaN</td>\n      <td>637.960000</td>\n      <td>4880.370000</td>\n      <td>80386.370000</td>\n      <td>10750.880000</td>\n      <td>80386.370000</td>\n      <td>4830.300000</td>\n      <td>172613.90</td>\n    </tr>\n    <tr>\n      <th>25108573</th>\n      <td>96.970</td>\n      <td>NaN</td>\n      <td>NaN</td>\n      <td>1919.290000</td>\n      <td>NaN</td>\n      <td>951.727</td>\n      <td>NaN</td>\n      <td>NaN</td>\n      <td>NaN</td>\n      <td>113618.635000</td>\n      <td>...</td>\n      <td>NaN</td>\n      <td>1673.210</td>\n      <td>2357.095000</td>\n      <td>893.570000</td>\n      <td>5019.620000</td>\n      <td>113618.635000</td>\n      <td>14033.865000</td>\n      <td>113618.635000</td>\n      <td>38963.000000</td>\n      <td>177379.00</td>\n    </tr>\n    <tr>\n      <th>25877861</th>\n      <td>NaN</td>\n      <td>NaN</td>\n      <td>NaN</td>\n      <td>114.090000</td>\n      <td>NaN</td>\n      <td>34.007</td>\n      <td>NaN</td>\n      <td>NaN</td>\n      <td>NaN</td>\n      <td>5675.950000</td>\n      <td>...</td>\n      <td>NaN</td>\n      <td>NaN</td>\n      <td>118.000000</td>\n      <td>44.370000</td>\n      <td>NaN</td>\n      <td>5675.950000</td>\n      <td>662.250000</td>\n      <td>5675.950000</td>\n      <td>NaN</td>\n      <td>6338.20</td>\n    </tr>\n    <tr>\n      <th>25892842</th>\n      <td>313.880</td>\n      <td>NaN</td>\n      <td>NaN</td>\n      <td>5887.190000</td>\n      <td>NaN</td>\n      <td>3338.294</td>\n      <td>NaN</td>\n      <td>NaN</td>\n      <td>NaN</td>\n      <td>334385.205000</td>\n      <td>...</td>\n      <td>NaN</td>\n      <td>5390.050</td>\n      <td>NaN</td>\n      <td>2608.340000</td>\n      <td>16170.140000</td>\n      <td>334385.205000</td>\n      <td>38234.660000</td>\n      <td>334385.205000</td>\n      <td>95290.000000</td>\n      <td>554659.73</td>\n    </tr>\n    <tr>\n      <th>25892918</th>\n      <td>120.940</td>\n      <td>NaN</td>\n      <td>NaN</td>\n      <td>2411.625000</td>\n      <td>NaN</td>\n      <td>1268.384</td>\n      <td>NaN</td>\n      <td>NaN</td>\n      <td>NaN</td>\n      <td>146494.320000</td>\n      <td>...</td>\n      <td>NaN</td>\n      <td>2079.250</td>\n      <td>NaN</td>\n      <td>1130.050000</td>\n      <td>6237.740000</td>\n      <td>146494.320000</td>\n      <td>14941.200000</td>\n      <td>146494.320000</td>\n      <td>53830.000000</td>\n      <td>215211.04</td>\n    </tr>\n  </tbody>\n</table>\n<p>1183 rows × 29 columns</p>\n</div>"
     },
     "execution_count": 243,
     "metadata": {},
     "output_type": "execute_result"
    }
   ],
   "source": [
    "pivot_mastercard"
   ],
   "metadata": {
    "collapsed": false,
    "pycharm": {
     "name": "#%%\n"
    }
   }
  },
  {
   "cell_type": "code",
   "execution_count": 245,
   "outputs": [],
   "source": [
    "pivot_mastercard[\"suma_percepciones\"] = pivot_mastercard[\"RETENCION IVA\"] + pivot_mastercard[\"PERCEPCION IVA R.G. 2408   3,00 %\"]"
   ],
   "metadata": {
    "collapsed": false,
    "pycharm": {
     "name": "#%%\n"
    }
   }
  },
  {
   "cell_type": "code",
   "execution_count": 246,
   "outputs": [
    {
     "data": {
      "text/plain": "desc_creaing                PERCEPCION IVA R.G. 2408   3,00 %  \\\nfecha_de_pago cod_comercio                                      \n2022-07-01    25098024                                205.285   \n              25107096                                 96.930   \n              25107105                                186.320   \n              25107118                                227.910   \n              25107120                                141.020   \n...                                                       ...   \n2022-07-29    25108471                                 94.320   \n              25108573                                 96.970   \n              25877861                                    NaN   \n              25892842                                313.880   \n              25892918                                120.940   \n\ndesc_creaing                AJUSTE SIRTAC JUL. 1RA QUINC  \\\nfecha_de_pago cod_comercio                                 \n2022-07-01    25098024                               NaN   \n              25107096                               NaN   \n              25107105                               NaN   \n              25107118                               NaN   \n              25107120                               NaN   \n...                                                  ...   \n2022-07-29    25108471                               NaN   \n              25108573                               NaN   \n              25877861                               NaN   \n              25892842                               NaN   \n              25892918                               NaN   \n\ndesc_creaing                AJUSTE SIRTAC JUNIO 2DA QUINC      ARANCEL  \\\nfecha_de_pago cod_comercio                                               \n2022-07-01    25098024                                NaN  4629.633333   \n              25107096                                NaN  1253.893333   \n              25107105                                NaN  3712.880000   \n              25107118                                NaN  4466.230000   \n              25107120                                NaN  2076.206667   \n...                                                   ...          ...   \n2022-07-29    25108471                                NaN  1602.325000   \n              25108573                                NaN  1919.290000   \n              25877861                                NaN   114.090000   \n              25892842                                NaN  5887.190000   \n              25892918                                NaN  2411.625000   \n\ndesc_creaing                CARGOS DE ENTIDAD  \\\nfecha_de_pago cod_comercio                      \n2022-07-01    25098024                    NaN   \n              25107096                    NaN   \n              25107105                    NaN   \n              25107118                    NaN   \n              25107120                    NaN   \n...                                       ...   \n2022-07-29    25108471                    NaN   \n              25108573                    NaN   \n              25877861                    NaN   \n              25892842                    NaN   \n              25892918                    NaN   \n\ndesc_creaing                CRED FISCAL AHORA 12/18 VTA EN CUOTAS 10,50%  \\\nfecha_de_pago cod_comercio                                                 \n2022-07-01    25098024                                          2721.195   \n              25107096                                           699.833   \n              25107105                                          1433.009   \n              25107118                                          2139.872   \n              25107120                                          1106.435   \n...                                                                  ...   \n2022-07-29    25108471                                           926.160   \n              25108573                                           951.727   \n              25877861                                            34.007   \n              25892842                                          3338.294   \n              25892918                                          1268.384   \n\ndesc_creaing                CRED. FISCAL PAG.S/DTO.FIN.OTORG 21,00%  \\\nfecha_de_pago cod_comercio                                            \n2022-07-01    25098024                                       277.02   \n              25107096                                          NaN   \n              25107105                                          NaN   \n              25107118                                          NaN   \n              25107120                                          NaN   \n...                                                             ...   \n2022-07-29    25108471                                          NaN   \n              25108573                                          NaN   \n              25877861                                          NaN   \n              25892842                                          NaN   \n              25892918                                          NaN   \n\ndesc_creaing                CRED.FISC.LEY 25063 PAG.S/DTO.F.OTORG. 10,50  \\\nfecha_de_pago cod_comercio                                                 \n2022-07-01    25098024                                               NaN   \n              25107096                                               NaN   \n              25107105                                               NaN   \n              25107118                                               NaN   \n              25107120                                             80.32   \n...                                                                  ...   \n2022-07-29    25108471                                               NaN   \n              25108573                                               NaN   \n              25877861                                               NaN   \n              25892842                                               NaN   \n              25892918                                               NaN   \n\ndesc_creaing                DESCUENTO FINANC.OTORG. CUOTAS  \\\nfecha_de_pago cod_comercio                                   \n2022-07-01    25098024                             1319.12   \n              25107096                                 NaN   \n              25107105                                 NaN   \n              25107118                                 NaN   \n              25107120                              764.98   \n...                                                    ...   \n2022-07-29    25108471                                 NaN   \n              25108573                                 NaN   \n              25877861                                 NaN   \n              25892842                                 NaN   \n              25892918                                 NaN   \n\ndesc_creaing                IMPORTE NETO DE PAGOS  ...  \\\nfecha_de_pago cod_comercio                         ...   \n2022-07-01    25098024              272074.586667  ...   \n              25107096               70725.400000  ...   \n              25107105              221953.610000  ...   \n              25107118              260580.340000  ...   \n              25107120              136009.133333  ...   \n...                                           ...  ...   \n2022-07-29    25108471               80386.370000  ...   \n              25108573              113618.635000  ...   \n              25877861                5675.950000  ...   \n              25892842              334385.205000  ...   \n              25892918              146494.320000  ...   \n\ndesc_creaing                RETENCION IMP.GANANCIAS  RETENCION ING.BRUTOS  \\\nfecha_de_pago cod_comercio                                                  \n2022-07-01    25098024                     2492.550          11192.493333   \n              25107096                      980.175           1470.950000   \n              25107105                     2002.610           4613.535000   \n              25107118                     2384.475           5423.740000   \n              25107120                     1666.235                   NaN   \n...                                             ...                   ...   \n2022-07-29    25108471                     1626.790                   NaN   \n              25108573                     1673.210           2357.095000   \n              25877861                          NaN            118.000000   \n              25892842                     5390.050                   NaN   \n              25892918                     2079.250                   NaN   \n\ndesc_creaing                RETENCION ING.BRUTOS SIRTAC  RETENCION IVA  \\\nfecha_de_pago cod_comercio                                               \n2022-07-01    25098024                      2807.633333    6518.843333   \n              25107096                       736.156667    1841.296667   \n              25107105                      2256.845000    5254.375000   \n              25107118                      2694.825000    6324.455000   \n              25107120                      1296.796667    2807.823333   \n...                                                 ...            ...   \n2022-07-29    25108471                       637.960000    4880.370000   \n              25108573                       893.570000    5019.620000   \n              25877861                        44.370000            NaN   \n              25892842                      2608.340000   16170.140000   \n              25892918                      1130.050000    6237.740000   \n\ndesc_creaing                SUBTOTAL NETO DE PAGOS  TOTAL DEDUCCIONES  \\\nfecha_de_pago cod_comercio                                              \n2022-07-01    25098024               272074.586667       38828.060000   \n              25107096                70725.400000        8792.363333   \n              25107105               221953.610000       26516.890000   \n              25107118               260580.340000       33971.790000   \n              25107120               136009.133333       11937.733333   \n...                                            ...                ...   \n2022-07-29    25108471                80386.370000       10750.880000   \n              25108573               113618.635000       14033.865000   \n              25877861                 5675.950000         662.250000   \n              25892842               334385.205000       38234.660000   \n              25892918               146494.320000       14941.200000   \n\ndesc_creaing                TOTAL LIQUIDACION  VENTAS C/DESCUENTO CONTADO  \\\nfecha_de_pago cod_comercio                                                  \n2022-07-01    25098024          272074.586667               156550.000000   \n              25107096           70725.400000                27038.633333   \n              25107105          221953.610000                94847.000000   \n              25107118          260580.340000                90413.500000   \n              25107120          136009.133333                93767.850000   \n...                                       ...                         ...   \n2022-07-29    25108471           80386.370000                 4830.300000   \n              25108573          113618.635000                38963.000000   \n              25877861            5675.950000                         NaN   \n              25892842          334385.205000                95290.000000   \n              25892918          146494.320000                53830.000000   \n\ndesc_creaing                VENTAS C/DTO CUOTAS FINANC. OTORG.  \\\nfecha_de_pago cod_comercio                                       \n2022-07-01    25098024                               309803.97   \n              25107096                               157437.39   \n              25107105                               307247.00   \n              25107118                               408277.26   \n              25107120                               128152.45   \n...                                                        ...   \n2022-07-29    25108471                               172613.90   \n              25108573                               177379.00   \n              25877861                                 6338.20   \n              25892842                               554659.73   \n              25892918                               215211.04   \n\ndesc_creaing                suma_percepciones  \nfecha_de_pago cod_comercio                     \n2022-07-01    25098024            6724.128333  \n              25107096            1938.226667  \n              25107105            5440.695000  \n              25107118            6552.365000  \n              25107120            2948.843333  \n...                                       ...  \n2022-07-29    25108471            4974.690000  \n              25108573            5116.590000  \n              25877861                    NaN  \n              25892842           16484.020000  \n              25892918            6358.680000  \n\n[1183 rows x 30 columns]",
      "text/html": "<div>\n<style scoped>\n    .dataframe tbody tr th:only-of-type {\n        vertical-align: middle;\n    }\n\n    .dataframe tbody tr th {\n        vertical-align: top;\n    }\n\n    .dataframe thead th {\n        text-align: right;\n    }\n</style>\n<table border=\"1\" class=\"dataframe\">\n  <thead>\n    <tr style=\"text-align: right;\">\n      <th></th>\n      <th>desc_creaing</th>\n      <th>PERCEPCION IVA R.G. 2408   3,00 %</th>\n      <th>AJUSTE SIRTAC JUL. 1RA QUINC</th>\n      <th>AJUSTE SIRTAC JUNIO 2DA QUINC</th>\n      <th>ARANCEL</th>\n      <th>CARGOS DE ENTIDAD</th>\n      <th>CRED FISCAL AHORA 12/18 VTA EN CUOTAS 10,50%</th>\n      <th>CRED. FISCAL PAG.S/DTO.FIN.OTORG 21,00%</th>\n      <th>CRED.FISC.LEY 25063 PAG.S/DTO.F.OTORG. 10,50</th>\n      <th>DESCUENTO FINANC.OTORG. CUOTAS</th>\n      <th>IMPORTE NETO DE PAGOS</th>\n      <th>...</th>\n      <th>RETENCION IMP.GANANCIAS</th>\n      <th>RETENCION ING.BRUTOS</th>\n      <th>RETENCION ING.BRUTOS SIRTAC</th>\n      <th>RETENCION IVA</th>\n      <th>SUBTOTAL NETO DE PAGOS</th>\n      <th>TOTAL DEDUCCIONES</th>\n      <th>TOTAL LIQUIDACION</th>\n      <th>VENTAS C/DESCUENTO CONTADO</th>\n      <th>VENTAS C/DTO CUOTAS FINANC. OTORG.</th>\n      <th>suma_percepciones</th>\n    </tr>\n    <tr>\n      <th>fecha_de_pago</th>\n      <th>cod_comercio</th>\n      <th></th>\n      <th></th>\n      <th></th>\n      <th></th>\n      <th></th>\n      <th></th>\n      <th></th>\n      <th></th>\n      <th></th>\n      <th></th>\n      <th></th>\n      <th></th>\n      <th></th>\n      <th></th>\n      <th></th>\n      <th></th>\n      <th></th>\n      <th></th>\n      <th></th>\n      <th></th>\n      <th></th>\n    </tr>\n  </thead>\n  <tbody>\n    <tr>\n      <th rowspan=\"5\" valign=\"top\">2022-07-01</th>\n      <th>25098024</th>\n      <td>205.285</td>\n      <td>NaN</td>\n      <td>NaN</td>\n      <td>4629.633333</td>\n      <td>NaN</td>\n      <td>2721.195</td>\n      <td>277.02</td>\n      <td>NaN</td>\n      <td>1319.12</td>\n      <td>272074.586667</td>\n      <td>...</td>\n      <td>2492.550</td>\n      <td>11192.493333</td>\n      <td>2807.633333</td>\n      <td>6518.843333</td>\n      <td>272074.586667</td>\n      <td>38828.060000</td>\n      <td>272074.586667</td>\n      <td>156550.000000</td>\n      <td>309803.97</td>\n      <td>6724.128333</td>\n    </tr>\n    <tr>\n      <th>25107096</th>\n      <td>96.930</td>\n      <td>NaN</td>\n      <td>NaN</td>\n      <td>1253.893333</td>\n      <td>NaN</td>\n      <td>699.833</td>\n      <td>NaN</td>\n      <td>NaN</td>\n      <td>NaN</td>\n      <td>70725.400000</td>\n      <td>...</td>\n      <td>980.175</td>\n      <td>1470.950000</td>\n      <td>736.156667</td>\n      <td>1841.296667</td>\n      <td>70725.400000</td>\n      <td>8792.363333</td>\n      <td>70725.400000</td>\n      <td>27038.633333</td>\n      <td>157437.39</td>\n      <td>1938.226667</td>\n    </tr>\n    <tr>\n      <th>25107105</th>\n      <td>186.320</td>\n      <td>NaN</td>\n      <td>NaN</td>\n      <td>3712.880000</td>\n      <td>NaN</td>\n      <td>1433.009</td>\n      <td>NaN</td>\n      <td>NaN</td>\n      <td>NaN</td>\n      <td>221953.610000</td>\n      <td>...</td>\n      <td>2002.610</td>\n      <td>4613.535000</td>\n      <td>2256.845000</td>\n      <td>5254.375000</td>\n      <td>221953.610000</td>\n      <td>26516.890000</td>\n      <td>221953.610000</td>\n      <td>94847.000000</td>\n      <td>307247.00</td>\n      <td>5440.695000</td>\n    </tr>\n    <tr>\n      <th>25107118</th>\n      <td>227.910</td>\n      <td>NaN</td>\n      <td>NaN</td>\n      <td>4466.230000</td>\n      <td>NaN</td>\n      <td>2139.872</td>\n      <td>NaN</td>\n      <td>NaN</td>\n      <td>NaN</td>\n      <td>260580.340000</td>\n      <td>...</td>\n      <td>2384.475</td>\n      <td>5423.740000</td>\n      <td>2694.825000</td>\n      <td>6324.455000</td>\n      <td>260580.340000</td>\n      <td>33971.790000</td>\n      <td>260580.340000</td>\n      <td>90413.500000</td>\n      <td>408277.26</td>\n      <td>6552.365000</td>\n    </tr>\n    <tr>\n      <th>25107120</th>\n      <td>141.020</td>\n      <td>NaN</td>\n      <td>NaN</td>\n      <td>2076.206667</td>\n      <td>NaN</td>\n      <td>1106.435</td>\n      <td>NaN</td>\n      <td>80.32</td>\n      <td>764.98</td>\n      <td>136009.133333</td>\n      <td>...</td>\n      <td>1666.235</td>\n      <td>NaN</td>\n      <td>1296.796667</td>\n      <td>2807.823333</td>\n      <td>136009.133333</td>\n      <td>11937.733333</td>\n      <td>136009.133333</td>\n      <td>93767.850000</td>\n      <td>128152.45</td>\n      <td>2948.843333</td>\n    </tr>\n    <tr>\n      <th>...</th>\n      <th>...</th>\n      <td>...</td>\n      <td>...</td>\n      <td>...</td>\n      <td>...</td>\n      <td>...</td>\n      <td>...</td>\n      <td>...</td>\n      <td>...</td>\n      <td>...</td>\n      <td>...</td>\n      <td>...</td>\n      <td>...</td>\n      <td>...</td>\n      <td>...</td>\n      <td>...</td>\n      <td>...</td>\n      <td>...</td>\n      <td>...</td>\n      <td>...</td>\n      <td>...</td>\n      <td>...</td>\n    </tr>\n    <tr>\n      <th rowspan=\"5\" valign=\"top\">2022-07-29</th>\n      <th>25108471</th>\n      <td>94.320</td>\n      <td>NaN</td>\n      <td>NaN</td>\n      <td>1602.325000</td>\n      <td>NaN</td>\n      <td>926.160</td>\n      <td>NaN</td>\n      <td>NaN</td>\n      <td>NaN</td>\n      <td>80386.370000</td>\n      <td>...</td>\n      <td>1626.790</td>\n      <td>NaN</td>\n      <td>637.960000</td>\n      <td>4880.370000</td>\n      <td>80386.370000</td>\n      <td>10750.880000</td>\n      <td>80386.370000</td>\n      <td>4830.300000</td>\n      <td>172613.90</td>\n      <td>4974.690000</td>\n    </tr>\n    <tr>\n      <th>25108573</th>\n      <td>96.970</td>\n      <td>NaN</td>\n      <td>NaN</td>\n      <td>1919.290000</td>\n      <td>NaN</td>\n      <td>951.727</td>\n      <td>NaN</td>\n      <td>NaN</td>\n      <td>NaN</td>\n      <td>113618.635000</td>\n      <td>...</td>\n      <td>1673.210</td>\n      <td>2357.095000</td>\n      <td>893.570000</td>\n      <td>5019.620000</td>\n      <td>113618.635000</td>\n      <td>14033.865000</td>\n      <td>113618.635000</td>\n      <td>38963.000000</td>\n      <td>177379.00</td>\n      <td>5116.590000</td>\n    </tr>\n    <tr>\n      <th>25877861</th>\n      <td>NaN</td>\n      <td>NaN</td>\n      <td>NaN</td>\n      <td>114.090000</td>\n      <td>NaN</td>\n      <td>34.007</td>\n      <td>NaN</td>\n      <td>NaN</td>\n      <td>NaN</td>\n      <td>5675.950000</td>\n      <td>...</td>\n      <td>NaN</td>\n      <td>118.000000</td>\n      <td>44.370000</td>\n      <td>NaN</td>\n      <td>5675.950000</td>\n      <td>662.250000</td>\n      <td>5675.950000</td>\n      <td>NaN</td>\n      <td>6338.20</td>\n      <td>NaN</td>\n    </tr>\n    <tr>\n      <th>25892842</th>\n      <td>313.880</td>\n      <td>NaN</td>\n      <td>NaN</td>\n      <td>5887.190000</td>\n      <td>NaN</td>\n      <td>3338.294</td>\n      <td>NaN</td>\n      <td>NaN</td>\n      <td>NaN</td>\n      <td>334385.205000</td>\n      <td>...</td>\n      <td>5390.050</td>\n      <td>NaN</td>\n      <td>2608.340000</td>\n      <td>16170.140000</td>\n      <td>334385.205000</td>\n      <td>38234.660000</td>\n      <td>334385.205000</td>\n      <td>95290.000000</td>\n      <td>554659.73</td>\n      <td>16484.020000</td>\n    </tr>\n    <tr>\n      <th>25892918</th>\n      <td>120.940</td>\n      <td>NaN</td>\n      <td>NaN</td>\n      <td>2411.625000</td>\n      <td>NaN</td>\n      <td>1268.384</td>\n      <td>NaN</td>\n      <td>NaN</td>\n      <td>NaN</td>\n      <td>146494.320000</td>\n      <td>...</td>\n      <td>2079.250</td>\n      <td>NaN</td>\n      <td>1130.050000</td>\n      <td>6237.740000</td>\n      <td>146494.320000</td>\n      <td>14941.200000</td>\n      <td>146494.320000</td>\n      <td>53830.000000</td>\n      <td>215211.04</td>\n      <td>6358.680000</td>\n    </tr>\n  </tbody>\n</table>\n<p>1183 rows × 30 columns</p>\n</div>"
     },
     "execution_count": 246,
     "metadata": {},
     "output_type": "execute_result"
    }
   ],
   "source": [
    "pivot_mastercard"
   ],
   "metadata": {
    "collapsed": false,
    "pycharm": {
     "name": "#%%\n"
    }
   }
  },
  {
   "cell_type": "markdown",
   "source": [
    "### Guardar como datasets\n",
    "a- el dataset de la tarjeta visa\n",
    "b- el dataset de la tarjeta mastercard\n",
    "c- cuanto dinero se cobra por mes y por sucursal\n",
    "d- cuanto se cobra por mes\n",
    "e- crear un lineplot de cuanto se cobra por mes"
   ],
   "metadata": {
    "collapsed": false,
    "pycharm": {
     "name": "#%% md\n"
    }
   }
  },
  {
   "cell_type": "code",
   "execution_count": null,
   "outputs": [],
   "source": [
    "pivot_visa.to_csv('datasets/visa.csv', index=False)\n",
    "pivot_mastercard.to_csv('datasets/mastercard.csv', index = False)\n",
    "dia_sucursal.to_csv('datasets/dia_sucursal.csv', index = False)\n",
    "importe_por_dia.to_csv('datasets/importe_por_dia.csv')"
   ],
   "metadata": {
    "collapsed": false,
    "pycharm": {
     "name": "#%%\n"
    }
   }
  },
  {
   "cell_type": "code",
   "execution_count": null,
   "outputs": [],
   "source": [
    "plt.plot(importe_por_dia.index,importe_por_dia)\n",
    "plt.savefig('datasets/plot_por_dia.jpg')"
   ],
   "metadata": {
    "collapsed": false,
    "pycharm": {
     "name": "#%%\n"
    }
   }
  }
 ]
}